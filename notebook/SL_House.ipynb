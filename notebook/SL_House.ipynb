{
 "cells": [
  {
   "cell_type": "code",
   "execution_count": 80,
   "id": "221b7d55-d0ec-4d3c-8c8a-afe0f6288f25",
   "metadata": {},
   "outputs": [],
   "source": [
    "import pandas as pd \n",
    "import numpy as np \n",
    "import matplotlib.pyplot as plt \n",
    "import seaborn as sns\n",
    "\n",
    "import warnings\n",
    "warnings.filterwarnings('ignore')"
   ]
  },
  {
   "cell_type": "code",
   "execution_count": 81,
   "id": "e5b10838-7d18-49ca-9e60-7cadca39749d",
   "metadata": {},
   "outputs": [
    {
     "data": {
      "text/html": [
       "<div>\n",
       "<style scoped>\n",
       "    .dataframe tbody tr th:only-of-type {\n",
       "        vertical-align: middle;\n",
       "    }\n",
       "\n",
       "    .dataframe tbody tr th {\n",
       "        vertical-align: top;\n",
       "    }\n",
       "\n",
       "    .dataframe thead th {\n",
       "        text-align: right;\n",
       "    }\n",
       "</style>\n",
       "<table border=\"1\" class=\"dataframe\">\n",
       "  <thead>\n",
       "    <tr style=\"text-align: right;\">\n",
       "      <th></th>\n",
       "      <th>Title</th>\n",
       "      <th>Sub_title</th>\n",
       "      <th>Price</th>\n",
       "      <th>Address</th>\n",
       "      <th>Baths</th>\n",
       "      <th>Land size</th>\n",
       "      <th>Beds</th>\n",
       "      <th>House size</th>\n",
       "      <th>Location</th>\n",
       "      <th>Description</th>\n",
       "      <th>Post_URL</th>\n",
       "      <th>Seller_name</th>\n",
       "      <th>Seller_type</th>\n",
       "      <th>published_date</th>\n",
       "      <th>Geo_Address</th>\n",
       "      <th>Lat</th>\n",
       "      <th>Lon</th>\n",
       "    </tr>\n",
       "  </thead>\n",
       "  <tbody>\n",
       "    <tr>\n",
       "      <th>0</th>\n",
       "      <td>House with Land for Sale in Matara for sale</td>\n",
       "      <td>Posted on 06 Nov 2:32 pm, Matara City, Matara</td>\n",
       "      <td>Rs 5,400,000</td>\n",
       "      <td>Gangodagama Roard,Hakmana,Matara.</td>\n",
       "      <td>1</td>\n",
       "      <td>50.0 perches</td>\n",
       "      <td>3</td>\n",
       "      <td>1,600.0 sqft</td>\n",
       "      <td>Matara City,  Matara</td>\n",
       "      <td>Land for sale with house Matara,Hakmana Gangod...</td>\n",
       "      <td>https://ikman.lk/en/ad/house-with-land-for-sal...</td>\n",
       "      <td>Ishara Dilshan</td>\n",
       "      <td>Member</td>\n",
       "      <td>2021-11-06 14:32:00</td>\n",
       "      <td>Matara City, Matara, Sri Lanka</td>\n",
       "      <td>80.500000</td>\n",
       "      <td>6.166670</td>\n",
       "    </tr>\n",
       "    <tr>\n",
       "      <th>1</th>\n",
       "      <td>à¶à¶½à·à¶­à· à¶à·à¶¸à¶» 3 à¶ à¶à·à· à...</td>\n",
       "      <td>Posted on 24 Oct 7:27 am, Athurugiriya, Colombo</td>\n",
       "      <td>Rs 16,800,000</td>\n",
       "      <td>Athurugiriya Galwarusapare</td>\n",
       "      <td>3</td>\n",
       "      <td>8.0 perches</td>\n",
       "      <td>3</td>\n",
       "      <td>1,480.0 sqft</td>\n",
       "      <td>Athurugiriya,  Colombo</td>\n",
       "      <td>*House For Sale In Athurugiriya *Galwarusapare...</td>\n",
       "      <td>https://ikman.lk/en/ad/alut-kaamr-3-k-grh-bhaa...</td>\n",
       "      <td>DILRUWAN REAL ESTATE</td>\n",
       "      <td>Premium-Member</td>\n",
       "      <td>2021-10-24 07:27:00</td>\n",
       "      <td>Athurugiriya, Colombo, Sri Lanka</td>\n",
       "      <td>79.989929</td>\n",
       "      <td>6.877246</td>\n",
       "    </tr>\n",
       "    <tr>\n",
       "      <th>2</th>\n",
       "      <td>Kelaniya - House on 20P Land for sale for sale</td>\n",
       "      <td>Posted on 17 Nov 5:19 pm, Kelaniya, Gampaha</td>\n",
       "      <td>Rs 20,000,000</td>\n",
       "      <td>Kelaniya- Ranaviru Maldeniya Road</td>\n",
       "      <td>2</td>\n",
       "      <td>20.0 perches</td>\n",
       "      <td>3</td>\n",
       "      <td>2,800.0 sqft</td>\n",
       "      <td>Kelaniya,  Gampaha</td>\n",
       "      <td>Kelaniya- Biyagama road, Ranaviru Maladeniya R...</td>\n",
       "      <td>https://ikman.lk/en/ad/kelaniya-house-on-20p-l...</td>\n",
       "      <td>Provident Paradise (Pvt) Ltd</td>\n",
       "      <td>Member</td>\n",
       "      <td>2021-11-17 17:19:00</td>\n",
       "      <td>Kelaniya, Gampaha, Sri Lanka</td>\n",
       "      <td>79.914926</td>\n",
       "      <td>6.951178</td>\n",
       "    </tr>\n",
       "    <tr>\n",
       "      <th>3</th>\n",
       "      <td>House For Sale in Pamankada Lane Wellawatte Co...</td>\n",
       "      <td>Posted on 17 Nov 5:07 pm, Colombo 6, Colombo</td>\n",
       "      <td>Rs 187,000,000</td>\n",
       "      <td>Pamankada Lane Wellawatte Colombo.06</td>\n",
       "      <td>5</td>\n",
       "      <td>22.0 perches</td>\n",
       "      <td>5</td>\n",
       "      <td>4,000.0 sqft</td>\n",
       "      <td>Colombo 6,  Colombo</td>\n",
       "      <td>22 Perches House For Sale in Pamankada Lane We...</td>\n",
       "      <td>https://ikman.lk/en/ad/house-for-sale-in-paman...</td>\n",
       "      <td>Colombo Construction Property Developers</td>\n",
       "      <td>Premium-Member</td>\n",
       "      <td>2021-11-17 17:07:00</td>\n",
       "      <td>Colombo 6, Colombo, Sri Lanka</td>\n",
       "      <td>80.016670</td>\n",
       "      <td>6.866670</td>\n",
       "    </tr>\n",
       "    <tr>\n",
       "      <th>4</th>\n",
       "      <td>House For Sale - Attidiya for sale</td>\n",
       "      <td>Posted on 17 Nov 5:06 pm, Dehiwala, Colombo</td>\n",
       "      <td>Rs 1,300,000</td>\n",
       "      <td>MainRoad Attidiya</td>\n",
       "      <td>1</td>\n",
       "      <td>6.3 perches</td>\n",
       "      <td>2</td>\n",
       "      <td>900.0 sqft</td>\n",
       "      <td>Dehiwala,  Colombo</td>\n",
       "      <td>*à¶à¶­à·à¶­à·à¶©à·à¶º à¶´à·âà¶»à¶¯à·à·...</td>\n",
       "      <td>https://ikman.lk/en/ad/house-for-sale-attidiya...</td>\n",
       "      <td>Lakdinu Houses</td>\n",
       "      <td>Member</td>\n",
       "      <td>2021-11-17 17:06:00</td>\n",
       "      <td>Dehiwala, Colombo, Sri Lanka</td>\n",
       "      <td>79.880242</td>\n",
       "      <td>6.838232</td>\n",
       "    </tr>\n",
       "  </tbody>\n",
       "</table>\n",
       "</div>"
      ],
      "text/plain": [
       "                                               Title  \\\n",
       "0        House with Land for Sale in Matara for sale   \n",
       "1  à¶\n",
       "à¶½à·à¶­à· à¶à·à¶¸à¶» 3 à¶ à¶à·à· à...   \n",
       "2     Kelaniya - House on 20P Land for sale for sale   \n",
       "3  House For Sale in Pamankada Lane Wellawatte Co...   \n",
       "4                 House For Sale - Attidiya for sale   \n",
       "\n",
       "                                         Sub_title           Price  \\\n",
       "0    Posted on 06 Nov 2:32 pm, Matara City, Matara    Rs 5,400,000   \n",
       "1  Posted on 24 Oct 7:27 am, Athurugiriya, Colombo   Rs 16,800,000   \n",
       "2      Posted on 17 Nov 5:19 pm, Kelaniya, Gampaha   Rs 20,000,000   \n",
       "3     Posted on 17 Nov 5:07 pm, Colombo 6, Colombo  Rs 187,000,000   \n",
       "4      Posted on 17 Nov 5:06 pm, Dehiwala, Colombo    Rs 1,300,000   \n",
       "\n",
       "                                Address Baths     Land size Beds  \\\n",
       "0     Gangodagama Roard,Hakmana,Matara.     1  50.0 perches    3   \n",
       "1            Athurugiriya Galwarusapare     3   8.0 perches    3   \n",
       "2     Kelaniya- Ranaviru Maldeniya Road     2  20.0 perches    3   \n",
       "3  Pamankada Lane Wellawatte Colombo.06     5  22.0 perches    5   \n",
       "4                     MainRoad Attidiya     1   6.3 perches    2   \n",
       "\n",
       "     House size                 Location  \\\n",
       "0  1,600.0 sqft     Matara City,  Matara   \n",
       "1  1,480.0 sqft   Athurugiriya,  Colombo   \n",
       "2  2,800.0 sqft       Kelaniya,  Gampaha   \n",
       "3  4,000.0 sqft      Colombo 6,  Colombo   \n",
       "4    900.0 sqft       Dehiwala,  Colombo   \n",
       "\n",
       "                                         Description  \\\n",
       "0  Land for sale with house Matara,Hakmana Gangod...   \n",
       "1  *House For Sale In Athurugiriya *Galwarusapare...   \n",
       "2  Kelaniya- Biyagama road, Ranaviru Maladeniya R...   \n",
       "3  22 Perches House For Sale in Pamankada Lane We...   \n",
       "4  *à¶\n",
       "à¶­à·à¶­à·à¶©à·à¶º à¶´à·âà¶»à¶¯à·à·...   \n",
       "\n",
       "                                            Post_URL  \\\n",
       "0  https://ikman.lk/en/ad/house-with-land-for-sal...   \n",
       "1  https://ikman.lk/en/ad/alut-kaamr-3-k-grh-bhaa...   \n",
       "2  https://ikman.lk/en/ad/kelaniya-house-on-20p-l...   \n",
       "3  https://ikman.lk/en/ad/house-for-sale-in-paman...   \n",
       "4  https://ikman.lk/en/ad/house-for-sale-attidiya...   \n",
       "\n",
       "                                Seller_name     Seller_type  \\\n",
       "0                            Ishara Dilshan          Member   \n",
       "1                      DILRUWAN REAL ESTATE  Premium-Member   \n",
       "2              Provident Paradise (Pvt) Ltd          Member   \n",
       "3  Colombo Construction Property Developers  Premium-Member   \n",
       "4                            Lakdinu Houses          Member   \n",
       "\n",
       "        published_date                       Geo_Address        Lat       Lon  \n",
       "0  2021-11-06 14:32:00    Matara City, Matara, Sri Lanka  80.500000  6.166670  \n",
       "1  2021-10-24 07:27:00  Athurugiriya, Colombo, Sri Lanka  79.989929  6.877246  \n",
       "2  2021-11-17 17:19:00      Kelaniya, Gampaha, Sri Lanka  79.914926  6.951178  \n",
       "3  2021-11-17 17:07:00     Colombo 6, Colombo, Sri Lanka  80.016670  6.866670  \n",
       "4  2021-11-17 17:06:00      Dehiwala, Colombo, Sri Lanka  79.880242  6.838232  "
      ]
     },
     "execution_count": 81,
     "metadata": {},
     "output_type": "execute_result"
    }
   ],
   "source": [
    "data = pd.read_csv(r\"house_prices.csv\")\n",
    "data.head()"
   ]
  },
  {
   "cell_type": "code",
   "execution_count": 82,
   "id": "d3e2d1f9-8e7f-41d3-a675-85cc7df70ff4",
   "metadata": {},
   "outputs": [
    {
     "data": {
      "text/plain": [
       "Index(['Title', 'Sub_title', 'Price', 'Address', 'Baths', 'Land size', 'Beds',\n",
       "       'House size', 'Location', 'Description', 'Post_URL', 'Seller_name',\n",
       "       'Seller_type', 'published_date', 'Geo_Address', 'Lat', 'Lon'],\n",
       "      dtype='object')"
      ]
     },
     "execution_count": 82,
     "metadata": {},
     "output_type": "execute_result"
    }
   ],
   "source": [
    "data.columns"
   ]
  },
  {
   "cell_type": "code",
   "execution_count": 83,
   "id": "2de08d3e",
   "metadata": {},
   "outputs": [
    {
     "name": "stdout",
     "output_type": "stream",
     "text": [
      "<class 'pandas.core.frame.DataFrame'>\n",
      "RangeIndex: 15327 entries, 0 to 15326\n",
      "Data columns (total 17 columns):\n",
      " #   Column          Non-Null Count  Dtype  \n",
      "---  ------          --------------  -----  \n",
      " 0   Title           15327 non-null  object \n",
      " 1   Sub_title       15327 non-null  object \n",
      " 2   Price           15327 non-null  object \n",
      " 3   Address         11191 non-null  object \n",
      " 4   Baths           15327 non-null  object \n",
      " 5   Land size       15327 non-null  object \n",
      " 6   Beds            15327 non-null  object \n",
      " 7   House size      15327 non-null  object \n",
      " 8   Location        15327 non-null  object \n",
      " 9   Description     15327 non-null  object \n",
      " 10  Post_URL        15327 non-null  object \n",
      " 11  Seller_name     15327 non-null  object \n",
      " 12  Seller_type     15327 non-null  object \n",
      " 13  published_date  15327 non-null  object \n",
      " 14  Geo_Address     15327 non-null  object \n",
      " 15  Lat             15327 non-null  float64\n",
      " 16  Lon             15327 non-null  float64\n",
      "dtypes: float64(2), object(15)\n",
      "memory usage: 2.0+ MB\n"
     ]
    }
   ],
   "source": [
    "data.info()"
   ]
  },
  {
   "cell_type": "code",
   "execution_count": 14,
   "id": "97716b9d-5906-4270-a0dd-dbab67d08282",
   "metadata": {},
   "outputs": [
    {
     "data": {
      "text/plain": [
       "(15327, 17)"
      ]
     },
     "execution_count": 14,
     "metadata": {},
     "output_type": "execute_result"
    }
   ],
   "source": [
    "data.shape"
   ]
  },
  {
   "cell_type": "code",
   "execution_count": 15,
   "id": "bad771fd-e758-4f99-884e-8d53ea69d11b",
   "metadata": {},
   "outputs": [
    {
     "name": "stdout",
     "output_type": "stream",
     "text": [
      "Title : 9878\n",
      "Sub_title : 12849\n",
      "Price : 542\n",
      "Address : 4489\n",
      "Baths : 11\n",
      "Land size : 639\n",
      "Beds : 11\n",
      "House size : 1049\n",
      "Location : 172\n",
      "Description : 8761\n",
      "Post_URL : 13916\n",
      "Seller_name : 1509\n",
      "Seller_type : 2\n",
      "published_date : 10767\n",
      "Geo_Address : 172\n",
      "Lat : 148\n",
      "Lon : 149\n"
     ]
    }
   ],
   "source": [
    "for i in data.columns:\n",
    "    print(f\"{i} : {data[i].nunique()}\")"
   ]
  },
  {
   "cell_type": "code",
   "execution_count": 16,
   "id": "a8ee4aa5-2491-47f9-9354-8c2240e348fe",
   "metadata": {},
   "outputs": [
    {
     "name": "stdout",
     "output_type": "stream",
     "text": [
      "Title : ['House with Land for Sale in Matara for sale'\n",
      " 'à¶\\x85à¶½à·\\x94à¶\\xadà·\\x8a à¶\\x9aà·\\x8fà¶¸à¶» 3 à¶\\x9a à¶\\x9cà·\\x98à·\\x84 à¶·à·\\x8fà¶«à·\\x8aà¶© à·\\x83à¶¸à¶\\x9c à¶±à·\\x92à·\\x80à·\\x83à¶\\x9aà·\\x8a à·\\x80à·\\x92à¶\\x9aà·\\x92à¶«à·\\x93à¶¸à¶§ à¶\\x85à¶\\xadà·\\x94à¶»à·\\x94à¶\\x9cà·\\x92à¶»à·\\x92à¶º . for sale'\n",
      " 'Kelaniya - House on 20P Land for sale for sale' ...\n",
      " 'BRAND NEW HOUSE FOR SALE â\\x80\\x93 KERAWALAPITIYA / WATTALA CLOSER TO HIGH WAY for sale'\n",
      " 'House for Sale - Wellawatte for sale'\n",
      " 'Mount Lavinia House for Sale for sale']\n",
      ">>>>>>>>>>>>>>>>>>>>>>>>>>>\n",
      "Sub_title : ['Posted on 06 Nov 2:32 pm, Matara City, Matara'\n",
      " 'Posted on 24 Oct 7:27 am, Athurugiriya, Colombo'\n",
      " 'Posted on 17 Nov 5:19 pm, Kelaniya, Gampaha' ...\n",
      " 'Posted on 29 Nov 12:26 am, Maharagama, Colombo'\n",
      " 'Posted on 19 Nov 9:12 pm, Dehiwala, Colombo'\n",
      " 'Posted on 24 Nov 6:52 pm, Colombo 6, Colombo']\n",
      ">>>>>>>>>>>>>>>>>>>>>>>>>>>\n",
      "Price : ['Rs 5,400,000' 'Rs 16,800,000' 'Rs 20,000,000' 'Rs 187,000,000'\n",
      " 'Rs 1,300,000' 'Rs 55,000,000' 'Rs 45,000,000' 'Rs 16,700,000'\n",
      " 'Rs 50,000,000' 'Rs 16,000,000' 'Rs 19,500,000' 'Rs 11,500,000'\n",
      " 'Rs 26,500,000' 'Rs 19,000,000' 'Rs 11,000,000' 'Rs 16,500,000'\n",
      " 'Rs 6,500,000' 'Rs 95,000,000' 'Rs 13,500,000' 'Rs 24,500,000'\n",
      " 'Rs 32,500,000' 'Rs 27,000,000' 'Rs 33,000,000' 'Rs 28,500,000'\n",
      " 'Rs 17,000,000' 'Rs 31,000,000' 'Rs 4,500,000' 'Rs 14,800,000'\n",
      " 'Rs 34,000,000' 'Rs 39,500,000' 'Rs 35,000,000' 'Rs 65,000,000'\n",
      " 'Rs 36,440,000' 'Rs 40,000,000' 'Rs 49,500,000' 'Rs 25,500,000'\n",
      " 'Rs 29,500,000' 'Rs 85,000,000' 'Rs 28,000,000' 'Rs 47,000,000'\n",
      " 'Rs 8,400,000' 'Rs 75,000,000' 'Rs 18,500,000' 'Rs 39,000,000'\n",
      " 'Rs 25,000,000' 'Rs 20,500,000' 'Rs 14,500,000' 'Rs 21,200,000'\n",
      " 'Rs 17,800,000' 'Rs 19,800,000' 'Rs 27,500,000' 'Rs 36,000,000'\n",
      " 'Rs 3,900,000' 'Rs 7,500,000' 'Rs 24,800,000' 'Rs 15,000,000'\n",
      " 'Rs 70,000,000' 'Rs 4,000,000' 'Rs 89,000,000' 'Rs 12,500,000'\n",
      " 'Rs 79,500,000' 'Rs 12,000,000' 'Rs 14,200,000' 'Rs 5,500,000'\n",
      " 'Rs 36,400,000' 'Rs 49,000,000' 'Rs 21,000,000' 'Rs 7,800,000'\n",
      " 'Rs 13,000,000' 'Rs 35,500,000' 'Rs 22,500,000' 'Rs 5,750,000'\n",
      " 'Rs 29,800,000' 'Rs 12,900,000' 'Rs 15,500,000' 'Rs 32,000,000'\n",
      " 'Rs 1,600,000' 'Rs 120,000,000' 'Rs 1,450,000' 'Rs 220,000,000'\n",
      " 'Rs 33,500,000' 'Rs 65,000' 'Rs 21,500,000' 'Rs 41,000,000'\n",
      " 'Rs 26,000,000' 'Rs 22,000,000' 'Rs 30,500,000' 'Rs 23,500,000'\n",
      " 'Rs 10,500,000' 'Rs 14,000,000' 'Rs 8,000,000' 'Rs 23,800,000'\n",
      " 'Rs 46,500,000' 'Rs 9,900,000' 'Rs 3,990,000' 'Rs 13,800,000'\n",
      " 'Rs 110,000,000' 'Rs 4,800,000' 'Rs 47,500,000' 'Rs 44,000,000'\n",
      " 'Rs 9,500,000' 'Rs 60,000,000' 'Rs 42,500,000' 'Rs 63,000,000'\n",
      " 'Rs 15,400,000' 'Rs 68,000,000' 'Rs 4,600,000' 'Rs 135,000,000'\n",
      " 'Rs 37,500,000' 'Rs 48,000,000' 'Rs 8,700,000' 'Rs 80,000,000'\n",
      " 'Rs 6,800,000' 'Rs 9,000,000' 'Rs 30,000,000' 'Rs 115,000,000'\n",
      " 'Rs 170,000,000' 'Rs 18,000,000' 'Rs 8,500,000' 'Rs 12,800,000'\n",
      " 'Rs 150,000,000' 'Rs 29,000,000' 'Rs 3,000,000' 'Rs 53,000,000'\n",
      " 'Rs 130,000,000' 'Rs 7,600,000' 'Rs 4,250,000' 'Rs 23,000,000'\n",
      " 'Rs 3,800,000' 'Rs 4,400,000' 'Rs 6,250,000' 'Rs 105,000,000'\n",
      " 'Rs 46,000,000' 'Rs 14,700,000' 'Rs 54,800,000' 'Rs 48,500,000'\n",
      " 'Rs 17,300,000' 'Rs 15,800,000' 'Rs 84,500,000' 'Rs 38,500,000'\n",
      " 'Rs 5,700,000' 'Rs 24,000,000' 'Rs 290,000,000' 'Rs 36,700,000'\n",
      " 'Rs 22,499,999' 'Rs 7,300,000' 'Rs 100,000,000' 'Rs 9,800,000'\n",
      " 'Rs 950,000' 'Rs 57,500,000' 'Rs 182,750,000' 'Rs 152,000,000'\n",
      " 'Rs 160,000,000' 'Rs 200,000,000' 'Rs 79,000,000' 'Rs 58,000,000'\n",
      " 'Rs 43,000,000' 'Rs 360,000,000' 'Rs 7,400,000' 'Rs 5,000,000'\n",
      " 'Rs 3,500,000' 'Rs 14,900,000' 'Rs 66,000,000' 'Rs 51,000,000'\n",
      " 'Rs 13,200,000' 'Rs 6,900,000' 'Rs 15,900,000' 'Rs 2,300,000'\n",
      " 'Rs 69,000,000' 'Rs 121,000,000' 'Rs 17,500,000' 'Rs 16,900,000'\n",
      " 'Rs 74,000,000' 'Rs 4,200,000' 'Rs 370,000' 'Rs 43,500,000'\n",
      " 'Rs 10,300,000' 'Rs 34,500,000' 'Rs 46,250,000' 'Rs 7,000,000'\n",
      " 'Rs 6,700,000' 'Rs 175,000,000' 'Rs 29,700,000' 'Rs 52,000,000'\n",
      " 'Rs 2,750,000' 'Rs 31,500,000' 'Rs 65,500,000' 'Rs 5,800,000'\n",
      " 'Rs 190,000,000' 'Rs 64,000,000' 'Rs 8,800,000' 'Rs 17,600,000'\n",
      " 'Rs 38,000,000' 'Rs 145,000,000' 'Rs 97,500,000' 'Rs 44,999,996'\n",
      " 'Rs 6,795,000' 'Rs 84,000,000' 'Rs 5,600,000' 'Rs 31,900,000'\n",
      " 'Rs 69,500,000' 'Rs 41,500,000' 'Rs 10,000,000' 'Rs 7,900,000'\n",
      " 'Rs 1,700,000' 'Rs 300,000' 'Rs 5,100,000' 'Rs 42,000,000' 'Rs 2,500,000'\n",
      " 'Rs 2,650,000' 'Rs 6,750,000' 'Rs 7,150,000' 'Rs 3,750,000'\n",
      " 'Rs 8,950,000' 'Rs 250,000,000' 'Rs 26,300,000' 'Rs 155,000,000'\n",
      " 'Rs 1,900,000,000' 'Rs 7,250,000' 'Rs 172,500,000' 'Rs 7,950,000'\n",
      " 'Rs 54,500,000' 'Rs 1,000,000' 'Rs 5,250,000' 'Rs 82,500,000'\n",
      " 'Rs 8,900,000' 'Rs 9,600,000' 'Rs 37,000,000' 'Rs 6,000,000'\n",
      " 'Rs 9,530,000' 'Rs 1,900,000' 'Rs 5,300,000' 'Rs 3,700,000'\n",
      " 'Rs 68,600,000' 'Rs 62,000,000' 'Rs 6,400,000' 'Rs 67,500,000'\n",
      " 'Rs 24,900,000' 'Rs 20,900,000' 'Rs 14,300,000' 'Rs 230,000,000'\n",
      " 'Rs 5,200,000' 'Rs 125,000,000' 'Rs 13,100,000' 'Rs 109,000,000'\n",
      " 'Rs 140,000,000' 'Rs 8,100,000' 'Rs 90,000,000' 'Rs 7,700,000'\n",
      " 'Rs 58,500,000' 'Rs 54,000,000' 'Rs 283,200,000' 'Rs 2,600,000'\n",
      " 'Rs 90,720,000' 'Rs 8,200,000' 'Rs 32,100,000' 'Rs 2,990,000'\n",
      " 'Rs 96,000,000' 'Rs 52,500,000' 'Rs 78,000,000' 'Rs 18,800,000'\n",
      " 'Rs 9,400,000' 'Rs 4,100,000' 'Rs 18,900,000' 'Rs 25,750,000'\n",
      " 'Rs 73,000,000' 'Rs 80,000' 'Rs 56,000,000' 'Rs 72,000,000'\n",
      " 'Rs 7,200,000' 'Rs 122,000,000' 'Rs 25,800,000' 'Rs 10,700,000'\n",
      " 'Rs 72,500,000' 'Rs 525,600,000' 'Rs 575,000,000' 'Rs 6,300,000'\n",
      " 'Rs 114,400,000' 'Rs 98,000,000' 'Rs 57,000,000' 'Rs 59,000,000'\n",
      " 'Rs 6,600,000' 'Rs 29,100,000' 'Rs 210,000,000' 'Rs 370,000,000'\n",
      " 'Rs 6,850,000' 'Rs 4,700,000' 'Rs 41,250,000' 'Rs 55,800,000'\n",
      " 'Rs 118,000,000' 'Rs 44,500,000' 'Rs 3,200,000' 'Rs 49,800,000'\n",
      " 'Rs 188,000,000' 'Rs 9,700,000' 'Rs 3,550,000' 'Rs 56,500,000'\n",
      " 'Rs 2,950,000' 'Rs 165,000,000' 'Rs 4,650,000' 'Rs 7,000,888'\n",
      " 'Rs 56,016,000' 'Rs 40,300,000' 'Rs 76,500,000' 'Rs 3,250,000'\n",
      " 'Rs 31,750,000' 'Rs 180,000,000' 'Rs 2,550,000' 'Rs 221,000,000'\n",
      " 'Rs 34,850,000' 'Rs 3,600,000' 'Rs 80,000,002' 'Rs 12,300,000'\n",
      " 'Rs 17,900,000' 'Rs 18,025,000' 'Rs 2,000,000' 'Rs 47,250,000'\n",
      " 'Rs 87,500,000' 'Rs 338,000,000' 'Rs 240,000,000' 'Rs 36,500,000'\n",
      " 'Rs 18,250,000' 'Rs 10,800,000' 'Rs 34,800,000' 'Rs 4,300,000'\n",
      " 'Rs 320,000,000' 'Rs 49,115,000' 'Rs 13,430,000' 'Rs 66,500,000'\n",
      " 'Rs 88,000,000' 'Rs 19,600,000' 'Rs 22,800,000' 'Rs 97,000,000'\n",
      " 'Rs 775,000,000' 'Rs 11,250,000' 'Rs 56,250,000' 'Rs 67,200,000'\n",
      " 'Rs 89,500,000' 'Rs 5,950,000' 'Rs 11,900,000' 'Rs 260,000,000'\n",
      " 'Rs 19,300,000' 'Rs 49,600,000' 'Rs 195,000,000' 'Rs 104,000,000'\n",
      " 'Rs 9,300,000' 'Rs 2,700,000' 'Rs 51,500,000' 'Rs 7,100,000'\n",
      " 'Rs 1,550,000' 'Rs 88,500,000' 'Rs 19,700,000' 'Rs 22,400,000'\n",
      " 'Rs 500,000,000' 'Rs 4,350,000' 'Rs 8,880,000' 'Rs 25,900,000'\n",
      " 'Rs 13,750,000' 'Rs 15,965,000' 'Rs 69,990,000' 'Rs 8,999,000'\n",
      " 'Rs 8,600,000' 'Rs 17,200,000' 'Rs 61,000,000' 'Rs 2,800,000'\n",
      " 'Rs 5,550,000' 'Rs 259,000,000' 'Rs 12,200,000' 'Rs 4,100,888'\n",
      " 'Rs 43,050,000' 'Rs 22,700,000' 'Rs 70,500,000' 'Rs 13,900,000'\n",
      " 'Rs 12,500,888' 'Rs 9,750,000' 'Rs 27,100,000' 'Rs 270,000,000'\n",
      " 'Rs 1,150,000,000' 'Rs 6,200,000' 'Rs 14,499,999' 'Rs 6,100,000'\n",
      " 'Rs 1,500,000' 'Rs 18,400,000' 'Rs 12,700,000' 'Rs 480,000,000'\n",
      " 'Rs 330,000,000' 'Rs 48,900,000' 'Rs 60,500,000' 'Rs 40,500,000'\n",
      " 'Rs 18,700,000' 'Rs 8,300,888' 'Rs 150,000,888' 'Rs 325,000,000'\n",
      " 'Rs 11,200,000' 'Rs 4,950,000' 'Rs 257,500,000' 'Rs 300,000,000'\n",
      " 'Rs 825,000,000' 'Rs 925,000' 'Rs 112,500,000' 'Rs 55,500,000'\n",
      " 'Rs 32,000' 'Rs 12,600,000' 'Rs 76,000,000' 'Rs 99,000,000'\n",
      " 'Rs 86,000,000' 'Rs 13,700,000' 'Rs 8,280,000' 'Rs 8,750,000'\n",
      " 'Rs 46,200,000' 'Rs 201,150,000' 'Rs 440,000,004' 'Rs 3,300,000'\n",
      " 'Rs 9,200,000' 'Rs 7,999,500' 'Rs 15,700,000' 'Rs 12,400,000'\n",
      " 'Rs 202,890,000' 'Rs 13,600,000' 'Rs 4,750,000' 'Rs 225,000,000'\n",
      " 'Rs 79,990,000' 'Rs 700,000' 'Rs 11,600,000' 'Rs 14,600,000'\n",
      " 'Rs 11,800,000' 'Rs 1,950,000' 'Rs 62,500,000' 'Rs 5,900,000'\n",
      " 'Rs 350,000,000' 'Rs 55,920,000' 'Rs 94,800,000' 'Rs 1,875,000'\n",
      " 'Rs 2,975,000' 'Rs 159,000,000' 'Rs 109,150,000' 'Rs 37,800,000'\n",
      " 'Rs 18,200,000' 'Rs 261,000,000' 'Rs 10,999,999' 'Rs 63,500,000'\n",
      " 'Rs 47,600,000' 'Rs 58,590,000' 'Rs 10,400,000' 'Rs 3,950,000'\n",
      " 'Rs 45,500,000' 'Rs 92,000,000' 'Rs 96,500,000' 'Rs 185,000,000'\n",
      " 'Rs 40,750,000' 'Rs 29,900,000' 'Rs 7,450,000' 'Rs 58,900,000'\n",
      " 'Rs 900,000' 'Rs 15,510,000' 'Rs 81,000,000' 'Rs 21,150,000'\n",
      " 'Rs 247,500,000' 'Rs 93,000,000' 'Rs 18,750,000' 'Rs 62,750,000'\n",
      " 'Rs 50,600,000' 'Rs 91,500,000' 'Rs 2,200,000' 'Rs 126,000,000'\n",
      " 'Rs 7,990,000' 'Rs 6,490,000' 'Rs 345,000,000' 'Rs 800,000'\n",
      " 'Rs 9,250,000' 'Rs 53,500,000' 'Rs 800,000,000' 'Rs 2,400,000'\n",
      " 'Rs 4,150,000' 'Rs 10,900,000' 'Rs 82,000,000' 'Rs 2,250,000'\n",
      " 'Rs 348,500,000' 'Rs 31,225,000' 'Rs 19,650,000' 'Rs 17,100,000'\n",
      " 'Rs 48,950,000' 'Rs 90,080,000' 'Rs 20,200,000' 'Rs 305,000,000'\n",
      " 'Rs 41,600,000' 'Rs 28,400,000' 'Rs 3,600' 'Rs 11,400,000'\n",
      " 'Rs 15,999,999' 'Rs 8,699,999' 'Rs 2,150,000' 'Rs 8,050,000'\n",
      " 'Rs 76,715,000' 'Rs 3,450,000' 'Rs 213,000,000' 'Rs 101,700,000'\n",
      " 'Rs 77,500,000' 'Rs 14,400,000' 'Rs 2,900,000' 'Rs 20,650,000'\n",
      " 'Rs 1,200,000' 'Rs 129,800,000' 'Rs 12,870,000' 'Rs 1,800,000'\n",
      " 'Rs 265,000,004' 'Rs 1,750,000' 'Rs 335,000,000' 'Rs 67,000,000'\n",
      " 'Rs 1,000,000,000' 'Rs 16,750,000' 'Rs 450,000,000' 'Rs 28,600,000'\n",
      " 'Rs 2,825,000' 'Rs 215,000,000' 'Rs 11,700,000' 'Rs 311,800,000'\n",
      " 'Rs 2,850,000' 'Rs 146,250,000' 'Rs 172,000,000' 'Rs 33,900,000'\n",
      " 'Rs 66,960,000' 'Rs 13,280,000' 'Rs 39,800,000' 'Rs 3,650,000'\n",
      " 'Rs 980,000' 'Rs 248,000,000' 'Rs 22,600,000' 'Rs 36,600,000'\n",
      " 'Rs 99,750,000' 'Rs 42,500,888' 'Rs 9,850,000' 'Rs 111,000,000'\n",
      " 'Rs 308,000,000' 'Rs 13,125,000' 'Rs 27,200,000' 'Rs 4,275,000'\n",
      " 'Rs 16,200,000' 'Rs 162,000,000' 'Rs 126,225,000' 'Rs 29,000'\n",
      " 'Rs 13,200,888']\n",
      ">>>>>>>>>>>>>>>>>>>>>>>>>>>\n",
      "Address : ['Gangodagama Roard,Hakmana,Matara.' 'Athurugiriya Galwarusapare'\n",
      " 'Kelaniya- Ranaviru Maldeniya Road' ... 'rideegama kurunagala'\n",
      " 'Siyambalape North, Siyambalape' 'Rukmalgama , Thaldiyawala']\n",
      ">>>>>>>>>>>>>>>>>>>>>>>>>>>\n",
      "Baths : ['1' '3' '2' '5' '4' '10+' '7' '6' '8' '10' '9']\n",
      ">>>>>>>>>>>>>>>>>>>>>>>>>>>\n",
      "Land size : ['50.0 perches' '8.0 perches' '20.0 perches' '22.0 perches' '6.3 perches'\n",
      " '11.0 perches' '10.0 perches' '9.0 perches' '3,000.0 perches'\n",
      " '9.85 perches' '10.5 perches' '11.4 perches' '80.0 perches' '7.5 perches'\n",
      " '3.0 perches' '11.2 perches' '20.5 perches' '15.0 perches' '7.42 perches'\n",
      " '21.5 perches' '10.2 perches' '10.3 perches' '12.5 perches'\n",
      " '150.0 perches' '6.8 perches' '7.0 perches' '39.13 perches'\n",
      " '12.0 perches' '27.5 perches' '9.11 perches' '12.1 perches'\n",
      " '15.5 perches' '14.0 perches' '10.4 perches' '1.5 perches' '13.0 perches'\n",
      " '26.0 perches' '13.98 perches' '6.5 perches' '6.0 perches' '6.25 perches'\n",
      " '13.5 perches' '11.5 perches' '23.0 perches' '8.5 perches' '13.8 perches'\n",
      " '90.0 perches' '7.86 perches' '11.6 perches' '280.0 perches'\n",
      " '31.0 perches' '12.05 perches' '10.6 perches' '112.0 perches'\n",
      " '7.4 perches' '16.5 perches' '40.0 perches' '10.1 perches' '17.0 perches'\n",
      " '16.2 perches' '9.5 perches' '24.8 perches' '15.4 perches' '9.3 perches'\n",
      " '7.8 perches' '9.9 perches' '9.33 perches' '126.0 perches'\n",
      " '10.05 perches' '28.0 perches' '45.0 perches' '14.8 perches'\n",
      " '7.7 perches' '149.0 perches' '27.0 perches' '62.0 perches'\n",
      " '10.12 perches' '16.0 perches' '3.5 perches' '8.8 perches' '18.0 perches'\n",
      " '24.0 perches' '5.25 perches' '18.9 perches' '6.64 perches'\n",
      " '11.7 perches' '16.75 perches' '50.2 perches' '1.0 acres' '12.6 perches'\n",
      " '19.0 perches' '25.0 perches' '30.0 perches' '36.0 perches'\n",
      " '0.75 perches' '13.2 perches' '4.0 perches' '5.0 perches' '17.5 perches'\n",
      " '12.85 perches' '50.17 perches' '57.0 perches' '8.7 perches'\n",
      " '9.8 perches' '18.4 perches' '12.34 perches' '14.7 perches' '6.7 perches'\n",
      " '13.67 perches' '7.15 perches' '10.7 perches' '8.08 perches'\n",
      " '23.74 perches' '18.5 perches' '32.0 perches' '7.1 perches'\n",
      " '8.19 perches' '4.9 perches' '12.9 perches' '41.0 perches' '51.0 perches'\n",
      " '6.0 acres' '55.0 perches' '12.8 perches' '22.5 perches' '7.9 perches'\n",
      " '1.75 perches' '18.7 perches' '4.1 perches' '11.69 perches'\n",
      " '25.6 perches' '65.0 perches' '34.0 perches' '10.87 perches'\n",
      " '29.0 perches' '7.6 perches' '6.4 perches' '15.21 perches' '10.9 perches'\n",
      " '22.62 perches' '19.5 perches' '7.2 perches' '17.2 perches' '2.0 perches'\n",
      " '9.25 perches' '47.0 perches' '6.24 perches' '13.43 perches'\n",
      " '6.87 perches' '110.0 perches' '42.0 perches' '33.0 perches'\n",
      " '6.35 perches' '6.62 perches' '6.2 perches' '6.75 perches' '19.7 perches'\n",
      " '11.3 perches' '45.9 perches' '12.35 perches' '29.5 perches'\n",
      " '15.3 perches' '35.5 perches' '16.8 perches' '13.9 perches'\n",
      " '12.63 perches' '5.5 perches' '9.83 perches' '10.15 perches'\n",
      " '21.0 perches' '8.3 perches' '23.4 perches' '3.6 perches' '8.2 perches'\n",
      " '7.3 perches' '6.6 perches' '1.79 perches' '10.8 perches' '1.25 acres'\n",
      " '15.31 perches' '18.6 perches' '33.6 perches' '7.14 perches'\n",
      " '2.5 perches' '14.5 perches' '11.75 perches' '13.4 perches'\n",
      " '54.0 perches' '14.25 perches' '48.0 perches' '17.7 perches'\n",
      " '86.0 perches' '5.35 perches' '85.5 perches' '18.76 perches'\n",
      " '7.43 perches' '7.45 perches' '40.2 perches' '1.4 acres' '14.2 perches'\n",
      " '19.1 perches' '7.98 perches' '2.8 perches' '14.19 perches'\n",
      " '8.12 perches' '13.65 perches' '10.75 perches' '7.76 perches'\n",
      " '8.9 perches' '147.0 perches' '11.06 perches' '8.6 perches'\n",
      " '67.0 perches' '53.0 perches' '8.1 perches' '19.8 perches' '35.0 perches'\n",
      " '3.15 perches' '10.34 perches' '4.5 perches' '21.35 perches'\n",
      " '3.25 perches' '10.41 perches' '9.7 perches' '9.2 perches' '4.6 perches'\n",
      " '7.31 perches' '9.15 perches' '18.98 perches' '26.45 perches'\n",
      " '92.0 perches' '10.25 perches' '10.04 perches' '142.0 perches'\n",
      " '20.19 perches' '8.76 perches' '11.9 perches' '6.42 perches'\n",
      " '11.1 perches' '7.53 perches' '33.7 perches' '20.8 perches'\n",
      " '9.75 perches' '99.0 perches' '17.3 perches' '6.53 perches'\n",
      " '9.12 perches' '22.3 perches' '20.16 perches' '140.0 perches'\n",
      " '16.7 perches' '8.05 perches' '9.07 perches' '11.34 perches'\n",
      " '43.0 perches' '2,500.0 perches' '5.1 perches' '10.53 perches'\n",
      " '13.03 perches' '23.6 perches' '5.4 perches' '15.7 perches'\n",
      " '60.0 perches' '12.7 perches' '6.58 perches' '31.68 perches'\n",
      " '4.4 perches' '29.2 perches' '18.3 perches' '85.0 perches' '11.8 perches'\n",
      " '8.15 perches' '17.68 perches' '19.6 perches' '24.5 perches'\n",
      " '6.14 perches' '14.9 perches' '10.65 perches' '3.7 perches'\n",
      " '38.0 perches' '6.23 perches' '8.4 perches' '160.0 perches'\n",
      " '20.12 perches' '14.3 perches' '9.1 perches' '700.0 perches'\n",
      " '100.0 perches' '15.8 perches' '7.19 perches' '19.75 perches'\n",
      " '3.14 perches' '880.0 perches' '48.5 perches' '6.1 perches'\n",
      " '56.0 perches' '276.0 perches' '9.17 perches' '25.5 perches'\n",
      " '58.35 perches' '15.56 perches' '10.77 perches' '15.19 perches'\n",
      " '16.6 perches' '8.25 perches' '5.92 perches' '6.9 perches' '20.2 perches'\n",
      " '12.65 perches' '2.0 acres' '17.8 perches' '13.7 perches' '4.25 perches'\n",
      " '7.05 perches' '28.5 perches' '69.0 perches' '6.01 perches'\n",
      " '17.4 perches' '23.5 perches' '12.3 perches' '82.8 perches'\n",
      " '17.9 perches' '20.96 perches' '129.0 perches' '211.0 perches'\n",
      " '40.5 perches' '31.11 perches' '107.0 perches' '3,500.0 perches'\n",
      " '5.03 perches' '9.45 perches' '68.0 perches' '4.7 perches' '5.24 perches'\n",
      " '14.4 perches' '36.5 perches' '34.68 perches' '91.0 perches'\n",
      " '18.75 perches' '1.0 perches' '15.61 perches' '20.9 perches'\n",
      " '105.0 perches' '23.55 perches' '2.3 perches' '9.22 perches'\n",
      " '182.0 perches' '15.25 perches' '20.31 perches' '12.45 perches'\n",
      " '6.85 perches' '7.77 perches' '15.2 perches' '78.0 perches' '1.5 acres'\n",
      " '5.8 perches' '9.98 perches' '3,200.0 perches' '8.42 perches'\n",
      " '10.08 perches' '10.56 perches' '12.58 perches' '11.61 perches'\n",
      " '67.4 perches' '3.75 perches' '16.3 perches' '3.97 perches'\n",
      " '10.68 perches' '16.4 perches' '16.17 perches' '52.0 perches'\n",
      " '6.55 perches' '13.52 perches' '18.2 perches' '2.25 perches'\n",
      " '14.87 perches' '6.12 perches' '13.3 perches' '8.55 perches'\n",
      " '39.0 perches' '10.33 perches' '30.1 perches' '7.06 perches'\n",
      " '27.4 perches' '12.2 perches' '9.82 perches' '1.21 perches'\n",
      " '2.29 perches' '1,350.0 perches' '14.15 perches' '23.33 perches'\n",
      " '15.75 perches' '8.65 perches' '13.16 perches' '20.66 perches'\n",
      " '5.6 perches' '30.5 perches' '9.55 perches' '4.08 perches' '4.75 perches'\n",
      " '10.31 perches' '6.54 perches' '11.73 perches' '59.0 perches'\n",
      " '59.6 perches' '15.1 perches' '96.0 perches' '6.32 perches'\n",
      " '36.3 perches' '13.6 perches' '29.7 perches' '8.02 perches'\n",
      " '15.85 perches' '5.73 perches' '8.18 perches' '63.0 perches'\n",
      " '5.2 perches' '10.61 perches' '12.4 perches' '30.7 perches'\n",
      " '124.0 perches' '9.41 perches' '16.25 perches' '9.06 perches'\n",
      " '14.6 perches' '53.2 perches' '43.5 perches' '6.09 perches'\n",
      " '14.75 perches' '12.25 perches' '76.0 perches' '19.4 perches'\n",
      " '11.25 perches' '83.0 perches' '13.56 perches' '82.0 perches'\n",
      " '9.4 perches' '9.6 perches' '2.7 perches' '1.8 perches' '8.75 perches'\n",
      " '35.2 perches' '2.94 perches' '6.72 perches' '58.0 perches'\n",
      " '46.0 perches' '285.0 perches' '2.4 perches' '10.26 perches'\n",
      " '10.22 perches' '37.0 perches' '10.0 acres' '19.25 perches'\n",
      " '18.26 perches' '15.78 perches' '154.0 perches' '7.67 perches'\n",
      " '12.66 perches' '25.8 perches' '5.85 perches' '113.0 perches'\n",
      " '4.3 perches' '2.66 perches' '75.0 perches' '20.3 perches'\n",
      " '120.0 perches' '320.0 perches' '31.9 perches' '19.9 perches' '5.5 acres'\n",
      " '4.8 perches' '9.65 perches' '3.3 perches' '13.1 perches' '31.4 perches'\n",
      " '21.1 perches' '3,300.0 perches' '16.1 perches' '6.06 perches'\n",
      " '31.6 perches' '3.2 perches' '8.14 perches' '11.85 perches'\n",
      " '95.0 perches' '7.75 perches' '5.3 perches' '20.35 perches'\n",
      " '7.96 perches' '7.47 perches' '26.5 perches' '2.1 perches'\n",
      " '10.79 perches' '13.99 perches' '40.0 acres' '14.1 perches'\n",
      " '8.26 perches' '15.6 perches' '9.14 perches' '7.03 perches'\n",
      " '36.92 perches' '22.6 perches' '7.68 perches' '13.89 perches'\n",
      " '12.15 perches' '25.25 perches' '2.5 acres' '17.62 perches'\n",
      " '9.87 perches' '2.2 perches' '152.0 perches' '9.81 perches'\n",
      " '7.33 perches' '24.7 perches' '14.85 perches' '22.7 perches'\n",
      " '66.0 perches' '24.25 perches' '12.75 perches' '29.97 perches'\n",
      " '12.84 perches' '61.0 perches' '14.95 perches' '27.85 perches'\n",
      " '37.75 perches' '155.0 perches' '11.82 perches' '10.11 perches'\n",
      " '37.5 perches' '12.74 perches' '108.0 perches' '8.66 perches'\n",
      " '118.85 perches' '240.0 perches' '19.37 perches' '36.1 perches'\n",
      " '13.25 perches' '12.49 perches' '23.11 perches' '25.9 perches'\n",
      " '8.31 perches' '24.54 perches' '7.25 perches' '22.52 perches'\n",
      " '5,445.0 perches' '20.15 perches' '37.6 perches' '9.05 perches'\n",
      " '13.05 perches' '5.38 perches' '50.5 perches' '18.25 perches'\n",
      " '7.85 perches' '9.77 perches' '1,305.0 perches' '6.89 perches'\n",
      " '1,500.0 perches' '5.75 perches' '18.1 perches' '21.3 perches'\n",
      " '21.83 perches' '4.2 perches' '18.65 perches' '11.28 perches'\n",
      " '103.0 perches' '2.15 perches' '44.0 perches' '29.1 perches'\n",
      " '11.74 perches' '16.93 perches' '10.63 perches' '17.75 perches'\n",
      " '84.0 perches' '11.35 perches' '1.36 perches' '0.0 perches'\n",
      " '10.35 perches' '22.9 perches' '7.21 perches' '145.0 perches'\n",
      " '34.5 perches' '11.37 perches' '480.0 perches' '7.08 perches'\n",
      " '13.75 perches' '12.64 perches' '6.08 perches' '19.81 perches'\n",
      " '22.2 perches' '21.62 perches' '3.4 perches' '12.37 perches'\n",
      " '18.13 perches' '1.9 perches' '32.8 perches' '21.8 perches'\n",
      " '12.38 perches' '12.68 perches' '11.65 perches' '18.82 perches'\n",
      " '59.5 perches' '57.7 perches' '38.4 perches' '14.67 perches'\n",
      " '7.55 perches' '49.0 perches' '22.27 perches' '13.83 perches'\n",
      " '16.89 perches' '6.21 perches' '10.44 perches' '11.49 perches'\n",
      " '165.0 perches' '18.8 perches' '25.7 perches' '24.91 perches'\n",
      " '6.22 perches' '22.08 perches' '9.09 perches' '12.71 perches'\n",
      " '12.44 perches' '10.32 perches' '25.72 perches' '2,900.0 perches'\n",
      " '144.0 perches' '1.2 perches' '5.32 perches' '12.33 perches'\n",
      " '13.77 perches' '3.0 acres' '3.66 perches' '31.1 perches' '49.5 perches'\n",
      " '1.46 perches' '1,120.0 perches' '1.11 perches' '23.17 perches'\n",
      " '2.75 perches' '3.87 perches' '24.3 perches']\n",
      ">>>>>>>>>>>>>>>>>>>>>>>>>>>\n",
      "Beds : ['3' '5' '2' '4' '10+' '9' '8' '6' '7' '1' '10']\n",
      ">>>>>>>>>>>>>>>>>>>>>>>>>>>\n",
      "House size : ['1,600.0 sqft' '1,480.0 sqft' '2,800.0 sqft' ... '1,960.0 sqft'\n",
      " '4,653.0 sqft' '2,393.0 sqft']\n",
      ">>>>>>>>>>>>>>>>>>>>>>>>>>>\n",
      "Location : [' Matara City,  Matara' ' Athurugiriya,  Colombo' ' Kelaniya,  Gampaha'\n",
      " ' Colombo 6,  Colombo' ' Dehiwala,  Colombo' ' Talawatugoda,  Colombo'\n",
      " ' Kandy City,  Kandy' ' Piliyandala,  Colombo' ' Kadawatha,  Gampaha'\n",
      " ' Gampaha City,  Gampaha' ' Katugastota,  Kandy' ' Negombo,  Gampaha'\n",
      " ' Malabe,  Colombo' ' Jaffna City,  Jaffna' ' Rajagiriya,  Colombo'\n",
      " ' Mount Lavinia,  Colombo' ' Battaramulla,  Colombo'\n",
      " ' Moratuwa,  Colombo' ' Nugegoda,  Colombo' ' Kottawa,  Colombo'\n",
      " ' Homagama,  Colombo' ' Minuwangoda,  Gampaha' ' Elpitiya,  Galle'\n",
      " ' Gampola,  Kandy' ' Karapitiya,  Galle' ' Colombo 9,  Colombo'\n",
      " ' Ratmalana,  Colombo' ' Kalutara City,  Kalutara'\n",
      " ' Boralesgamuwa,  Colombo' ' Baddegama,  Galle' ' Kotte,  Colombo'\n",
      " ' Kandana,  Gampaha' ' Kurunegala City,  Kurunegala'\n",
      " ' Nittambuwa,  Gampaha' ' Ragama,  Gampaha' ' Ja-Ela,  Gampaha'\n",
      " ' Chilaw,  Puttalam' ' Padukka,  Colombo' ' Horana,  Kalutara'\n",
      " ' Wellampitiya,  Colombo' ' Monaragala City,  Monaragala'\n",
      " ' Colombo 5,  Colombo' ' Kaduwela,  Colombo' ' Colombo 3,  Colombo'\n",
      " ' Kohuwala,  Colombo' ' Pannipitiya,  Colombo' ' Kolonnawa,  Colombo'\n",
      " ' Matugama,  Kalutara' ' Ganemulla,  Gampaha' ' Dikwella,  Matara'\n",
      " ' Angoda,  Colombo' ' Delgoda,  Gampaha' ' Wadduwa,  Kalutara'\n",
      " ' Ruwanwella,  Kegalle' ' Colombo 7,  Colombo' ' Yatiyantota,  Kegalle'\n",
      " ' Colombo 4,  Colombo' ' Dambulla,  Matale' ' Ambalangoda,  Galle'\n",
      " ' Weligama,  Matara' ' Colombo 15,  Colombo' ' Haputale,  Badulla'\n",
      " ' Beliatta,  Hambantota' ' Kesbewa,  Colombo' ' Wattala,  Gampaha'\n",
      " ' Wennappuwa,  Puttalam' ' Eheliyagoda,  Ratnapura' ' Peradeniya,  Kandy'\n",
      " ' Digana,  Kandy' ' Mawathagama,  Kurunegala'\n",
      " ' Anuradhapura City,  Anuradhapura' ' Ratnapura City,  Ratnapura'\n",
      " ' Panadura,  Kalutara' ' Nawala,  Colombo' ' Veyangoda,  Gampaha'\n",
      " ' Ingiriya,  Kalutara' ' Maharagama,  Colombo' ' Kundasale,  Kandy'\n",
      " ' Deniyaya,  Matara' ' Divulapitiya,  Gampaha' ' Narammala,  Kurunegala'\n",
      " ' Kiribathgoda,  Gampaha' ' Colombo 8,  Colombo' ' Hikkaduwa,  Galle'\n",
      " ' Katunayake,  Gampaha' ' Alutgama,  Kalutara' ' Galle City,  Galle'\n",
      " ' Colombo 10,  Colombo' ' Bandaragama,  Kalutara' ' Seeduwa,  Gampaha'\n",
      " ' Batticaloa City,  Batticaloa' ' Wariyapola,  Kurunegala'\n",
      " ' Ukuwela,  Matale' ' Badulla City,  Badulla'\n",
      " ' Nuwara Eliya City,  Nuwara Eliya' ' Colombo 12,  Colombo'\n",
      " ' Matale City,  Matale' ' Kegalle City,  Kegalle' ' Pilimatalawa,  Kandy'\n",
      " ' Mahiyanganaya,  Badulla' ' Hambantota City,  Hambantota'\n",
      " ' Beruwala,  Kalutara' ' Polonnaruwa City,  Polonnaruwa'\n",
      " ' Puttalam City,  Puttalam' ' Gelioya,  Kandy' ' Ampitiya,  Kandy'\n",
      " ' Balangoda,  Ratnapura' ' Tangalla,  Hambantota' ' Mawanella,  Kegalle'\n",
      " ' Avissawella,  Colombo' ' Kataragama,  Monaragala'\n",
      " ' Nikaweratiya,  Kurunegala' ' Meegoda,  Colombo' ' Colombo 13,  Colombo'\n",
      " ' Hanwella,  Colombo' ' Hingurakgoda,  Polonnaruwa'\n",
      " ' Dankotuwa,  Puttalam' ' Embilipitiya,  Ratnapura'\n",
      " ' Bandarawela,  Badulla' ' Kadugannawa,  Kandy' ' Mannar City,  Mannar'\n",
      " ' Batapola,  Galle' ' Ahangama,  Galle' ' Nallur,  Jaffna'\n",
      " ' Ambalantota,  Hambantota' ' Hakmana,  Matara' ' Pelmadulla,  Ratnapura'\n",
      " ' Kamburugamuwa,  Matara' ' Colombo 2,  Colombo' ' Kekanadurra,  Matara'\n",
      " ' Mirigama,  Gampaha' ' Godagama,  Colombo' ' Rambukkana,  Kegalle'\n",
      " ' Buttala,  Monaragala' ' Alawwa,  Kurunegala'\n",
      " ' Kuliyapitiya,  Kurunegala' ' Akuressa,  Matara' ' Menikhinna,  Kandy'\n",
      " ' Nawalapitiya,  Kandy' ' Colombo 14,  Colombo' ' Giriulla,  Kurunegala'\n",
      " ' Tissamaharama,  Hambantota' ' Wattegama,  Kandy' ' Ella,  Badulla'\n",
      " ' Dehiowita,  Kegalle' ' Trincomalee City,  Trincomalee'\n",
      " ' Ampara City,  Ampara' ' Hatton,  Nuwara Eliya'\n",
      " ' Hettipola,  Kurunegala' ' Kitulgala,  Kegalle'\n",
      " ' Ibbagamuwa,  Kurunegala' ' Galewela,  Matale' ' Warakapola,  Kegalle'\n",
      " ' Kalmunai,  Ampara' ' Welimada,  Badulla' ' Kuruwita,  Ratnapura'\n",
      " ' Bibile,  Monaragala' ' Akkarepattu,  Ampara'\n",
      " ' Nochchiyagama,  Anuradhapura' ' Pannala,  Kurunegala'\n",
      " ' Palapathwela,  Matale' ' Mihintale,  Anuradhapura'\n",
      " ' Galnewa,  Anuradhapura' ' Mullativu City,  Mullativu'\n",
      " ' Medirigiriya,  Polonnaruwa' ' Vavuniya City,  Vavuniya'\n",
      " ' Eppawala,  Anuradhapura' ' Polgahawela,  Kurunegala'\n",
      " ' Galigamuwa,  Kegalle' ' Galgamuwa,  Kurunegala' ' Colombo 1,  Colombo'\n",
      " ' Wellawaya,  Monaragala']\n",
      ">>>>>>>>>>>>>>>>>>>>>>>>>>>\n",
      "Description : ['Land for sale with house Matara,Hakmana Gangodagama area.3 Rooms 50 Purchs.Price - 5.4MMore informations please call Mr.Samitha Senaka'\n",
      " '*House For Sale In Athurugiriya *Galwarusapare .*8 perches .*3 Bedrooms.*2 Bedroom .*1.8m to Athurugiriya town .*3km to  Athurugiriya  Highway Entrance .*Hot water .*Full tield *Finishing roof .*With the furniture *Garage .*Roller gate .*clear deed .*Plz call me genuine bururs only .'\n",
      " 'Kelaniya- Biyagama road, Ranaviru Maladeniya Road, House on 20 Perches, for sale. House is located just 2 KM, away from the Kelaniya Temple on Biyagama road. Situated in a beautiful environment overlooking a paddy field. House can be upgraded to further to add more value.  House comprised with 03 Bed rooms, 02 Bath rooms, Pantry, large sitting & dining. Electricity & water also available with a large garden. Opportunity to foreigners & the Sri Lankans who are living abroad to invest on this property as land prices are expected to rise .Sold below the market price.   500, Mtrs, from Ranaviru Maldeniya Road off Biyagama road. Clear deeds & titles! Price, LKR-20 Million.'\n",
      " ...\n",
      " '7 perches1100sqft3 Beds2 Bathsparking 1 vehicle10,000,000 per perch100 meters to gall road70,000,000 Total price(only for land value)https://www.facebook.com/glorylandkotte/Do not miss this opportunityA 13'\n",
      " 'House For Sale In Maharagama,Nawinna5 perches3,000,000 per perchTotal Price 15,000,0002 Beds2BathsParking for 2 vehicleshttps://www.facebook.com/glorylandkotte/Do not miss this opportunityA 12'\n",
      " \"Mount Lavinia, Lilian avenue.6.5 p land with solidly built 8years old house.Ground floor :-  1 bedroom With sit-out area, 1 bathroom,1 pantry and,kitchen, 1 hall and dining area  1st floor          3 bedrooms with balcony ,   2 bathrooms,1 pantry And kitchen ,  1 hall and dining area. 2nd floor        3 bedrooms with balcony ,2 bathrooms,1 pantry and kitchen, 1 hall and dining area Rooftop         1 laundry room and 1 washroomJust  walking distance to S. Thomas' College Mount Lavinia , Mount Lavinia hotel and all super markets . Highly residential area .It's an entirely brick house which has three underground and overhead water storege tanks  and can be occupied by three different families.58.5 MPlease contact  ( No brokers)\"]\n",
      ">>>>>>>>>>>>>>>>>>>>>>>>>>>\n",
      "Post_URL : ['https://ikman.lk/en/ad/house-with-land-for-sale-in-matara-for-sale-matara-23'\n",
      " 'https://ikman.lk/en/ad/alut-kaamr-3-k-grh-bhaanndd-smg-nivsk-vikinniimtt-aturugiriy-for-sale-colombo'\n",
      " 'https://ikman.lk/en/ad/kelaniya-house-on-20p-land-for-sale-for-sale-gampaha'\n",
      " ...\n",
      " 'https://ikman.lk/en/ad/brand-new-house-for-sale-kerawalapitiya-wattala-closer-to-high-way-for-sale-gampaha-5'\n",
      " 'https://ikman.lk/en/ad/house-for-sale-wellawatte-for-sale-colombo-9'\n",
      " 'https://ikman.lk/en/ad/mount-lavinia-house-for-sale-for-sale-colombo-15']\n",
      ">>>>>>>>>>>>>>>>>>>>>>>>>>>\n",
      "Seller_name : ['Ishara Dilshan' 'DILRUWAN REAL ESTATE' 'Provident Paradise (Pvt) Ltd'\n",
      " ... 'Dinidu Atukorala' 'Sellfast l Shakya Singhe Real State'\n",
      " 'Tanuja Perara']\n",
      ">>>>>>>>>>>>>>>>>>>>>>>>>>>\n",
      "Seller_type : ['Member' 'Premium-Member']\n",
      ">>>>>>>>>>>>>>>>>>>>>>>>>>>\n",
      "published_date : ['2021-11-06 14:32:00' '2021-10-24 07:27:00' '2021-11-17 17:19:00' ...\n",
      " '2021-11-29 00:26:00' '2021-11-19 21:12:00' '2021-11-24 18:52:00']\n",
      ">>>>>>>>>>>>>>>>>>>>>>>>>>>\n",
      "Geo_Address : ['Matara City, Matara, Sri Lanka' 'Athurugiriya, Colombo, Sri Lanka'\n",
      " 'Kelaniya, Gampaha, Sri Lanka' 'Colombo 6, Colombo, Sri Lanka'\n",
      " 'Dehiwala, Colombo, Sri Lanka' 'Talawatugoda, Colombo, Sri Lanka'\n",
      " 'Kandy City, Kandy, Sri Lanka' 'Piliyandala, Colombo, Sri Lanka'\n",
      " 'Kadawatha, Gampaha, Sri Lanka' 'Gampaha City, Gampaha, Sri Lanka'\n",
      " 'Katugastota, Kandy, Sri Lanka' 'Negombo, Gampaha, Sri Lanka'\n",
      " 'Malabe, Colombo, Sri Lanka' 'Jaffna City, Jaffna, Sri Lanka'\n",
      " 'Rajagiriya, Colombo, Sri Lanka' 'Mount Lavinia, Colombo, Sri Lanka'\n",
      " 'Battaramulla, Colombo, Sri Lanka' 'Moratuwa, Colombo, Sri Lanka'\n",
      " 'Nugegoda, Colombo, Sri Lanka' 'Kottawa, Colombo, Sri Lanka'\n",
      " 'Homagama, Colombo, Sri Lanka' 'Minuwangoda, Gampaha, Sri Lanka'\n",
      " 'Elpitiya, Galle, Sri Lanka' 'Gampola, Kandy, Sri Lanka'\n",
      " 'Karapitiya, Galle, Sri Lanka' 'Colombo 9, Colombo, Sri Lanka'\n",
      " 'Ratmalana, Colombo, Sri Lanka' 'Kalutara City, Kalutara, Sri Lanka'\n",
      " 'Boralesgamuwa, Colombo, Sri Lanka' 'Baddegama, Galle, Sri Lanka'\n",
      " 'Kotte, Colombo, Sri Lanka' 'Kandana, Gampaha, Sri Lanka'\n",
      " 'Kurunegala City, Kurunegala, Sri Lanka' 'Nittambuwa, Gampaha, Sri Lanka'\n",
      " 'Ragama, Gampaha, Sri Lanka' 'Ja-Ela, Gampaha, Sri Lanka'\n",
      " 'Chilaw, Puttalam, Sri Lanka' 'Padukka, Colombo, Sri Lanka'\n",
      " 'Horana, Kalutara, Sri Lanka' 'Wellampitiya, Colombo, Sri Lanka'\n",
      " 'Monaragala City, Monaragala, Sri Lanka' 'Colombo 5, Colombo, Sri Lanka'\n",
      " 'Kaduwela, Colombo, Sri Lanka' 'Colombo 3, Colombo, Sri Lanka'\n",
      " 'Kohuwala, Colombo, Sri Lanka' 'Pannipitiya, Colombo, Sri Lanka'\n",
      " 'Kolonnawa, Colombo, Sri Lanka' 'Matugama, Kalutara, Sri Lanka'\n",
      " 'Ganemulla, Gampaha, Sri Lanka' 'Dikwella, Matara, Sri Lanka'\n",
      " 'Angoda, Colombo, Sri Lanka' 'Delgoda, Gampaha, Sri Lanka'\n",
      " 'Wadduwa, Kalutara, Sri Lanka' 'Ruwanwella, Kegalle, Sri Lanka'\n",
      " 'Colombo 7, Colombo, Sri Lanka' 'Yatiyantota, Kegalle, Sri Lanka'\n",
      " 'Colombo 4, Colombo, Sri Lanka' 'Dambulla, Matale, Sri Lanka'\n",
      " 'Ambalangoda, Galle, Sri Lanka' 'Weligama, Matara, Sri Lanka'\n",
      " 'Colombo 15, Colombo, Sri Lanka' 'Haputale, Badulla, Sri Lanka'\n",
      " 'Beliatta, Hambantota, Sri Lanka' 'Kesbewa, Colombo, Sri Lanka'\n",
      " 'Wattala, Gampaha, Sri Lanka' 'Wennappuwa, Puttalam, Sri Lanka'\n",
      " 'Eheliyagoda, Ratnapura, Sri Lanka' 'Peradeniya, Kandy, Sri Lanka'\n",
      " 'Digana, Kandy, Sri Lanka' 'Mawathagama, Kurunegala, Sri Lanka'\n",
      " 'Anuradhapura City, Anuradhapura, Sri Lanka'\n",
      " 'Ratnapura City, Ratnapura, Sri Lanka' 'Panadura, Kalutara, Sri Lanka'\n",
      " 'Nawala, Colombo, Sri Lanka' 'Veyangoda, Gampaha, Sri Lanka'\n",
      " 'Ingiriya, Kalutara, Sri Lanka' 'Maharagama, Colombo, Sri Lanka'\n",
      " 'Kundasale, Kandy, Sri Lanka' 'Deniyaya, Matara, Sri Lanka'\n",
      " 'Divulapitiya, Gampaha, Sri Lanka' 'Narammala, Kurunegala, Sri Lanka'\n",
      " 'Kiribathgoda, Gampaha, Sri Lanka' 'Colombo 8, Colombo, Sri Lanka'\n",
      " 'Hikkaduwa, Galle, Sri Lanka' 'Katunayake, Gampaha, Sri Lanka'\n",
      " 'Alutgama, Kalutara, Sri Lanka' 'Galle City, Galle, Sri Lanka'\n",
      " 'Colombo 10, Colombo, Sri Lanka' 'Bandaragama, Kalutara, Sri Lanka'\n",
      " 'Seeduwa, Gampaha, Sri Lanka' 'Batticaloa City, Batticaloa, Sri Lanka'\n",
      " 'Wariyapola, Kurunegala, Sri Lanka' 'Ukuwela, Matale, Sri Lanka'\n",
      " 'Badulla City, Badulla, Sri Lanka'\n",
      " 'Nuwara Eliya City, Nuwara Eliya, Sri Lanka'\n",
      " 'Colombo 12, Colombo, Sri Lanka' 'Matale City, Matale, Sri Lanka'\n",
      " 'Kegalle City, Kegalle, Sri Lanka' 'Pilimatalawa, Kandy, Sri Lanka'\n",
      " 'Mahiyanganaya, Badulla, Sri Lanka'\n",
      " 'Hambantota City, Hambantota, Sri Lanka' 'Beruwala, Kalutara, Sri Lanka'\n",
      " 'Polonnaruwa City, Polonnaruwa, Sri Lanka'\n",
      " 'Puttalam City, Puttalam, Sri Lanka' 'Gelioya, Kandy, Sri Lanka'\n",
      " 'Ampitiya, Kandy, Sri Lanka' 'Balangoda, Ratnapura, Sri Lanka'\n",
      " 'Tangalla, Hambantota, Sri Lanka' 'Mawanella, Kegalle, Sri Lanka'\n",
      " 'Avissawella, Colombo, Sri Lanka' 'Kataragama, Monaragala, Sri Lanka'\n",
      " 'Nikaweratiya, Kurunegala, Sri Lanka' 'Meegoda, Colombo, Sri Lanka'\n",
      " 'Colombo 13, Colombo, Sri Lanka' 'Hanwella, Colombo, Sri Lanka'\n",
      " 'Hingurakgoda, Polonnaruwa, Sri Lanka' 'Dankotuwa, Puttalam, Sri Lanka'\n",
      " 'Embilipitiya, Ratnapura, Sri Lanka' 'Bandarawela, Badulla, Sri Lanka'\n",
      " 'Kadugannawa, Kandy, Sri Lanka' 'Mannar City, Mannar, Sri Lanka'\n",
      " 'Batapola, Galle, Sri Lanka' 'Ahangama, Galle, Sri Lanka'\n",
      " 'Nallur, Jaffna, Sri Lanka' 'Ambalantota, Hambantota, Sri Lanka'\n",
      " 'Hakmana, Matara, Sri Lanka' 'Pelmadulla, Ratnapura, Sri Lanka'\n",
      " 'Kamburugamuwa, Matara, Sri Lanka' 'Colombo 2, Colombo, Sri Lanka'\n",
      " 'Kekanadurra, Matara, Sri Lanka' 'Mirigama, Gampaha, Sri Lanka'\n",
      " 'Godagama, Colombo, Sri Lanka' 'Rambukkana, Kegalle, Sri Lanka'\n",
      " 'Buttala, Monaragala, Sri Lanka' 'Alawwa, Kurunegala, Sri Lanka'\n",
      " 'Kuliyapitiya, Kurunegala, Sri Lanka' 'Akuressa, Matara, Sri Lanka'\n",
      " 'Menikhinna, Kandy, Sri Lanka' 'Nawalapitiya, Kandy, Sri Lanka'\n",
      " 'Colombo 14, Colombo, Sri Lanka' 'Giriulla, Kurunegala, Sri Lanka'\n",
      " 'Tissamaharama, Hambantota, Sri Lanka' 'Wattegama, Kandy, Sri Lanka'\n",
      " 'Ella, Badulla, Sri Lanka' 'Dehiowita, Kegalle, Sri Lanka'\n",
      " 'Trincomalee City, Trincomalee, Sri Lanka'\n",
      " 'Ampara City, Ampara, Sri Lanka' 'Hatton, Nuwara Eliya, Sri Lanka'\n",
      " 'Hettipola, Kurunegala, Sri Lanka' 'Kitulgala, Kegalle, Sri Lanka'\n",
      " 'Ibbagamuwa, Kurunegala, Sri Lanka' 'Galewela, Matale, Sri Lanka'\n",
      " 'Warakapola, Kegalle, Sri Lanka' 'Kalmunai, Ampara, Sri Lanka'\n",
      " 'Welimada, Badulla, Sri Lanka' 'Kuruwita, Ratnapura, Sri Lanka'\n",
      " 'Bibile, Monaragala, Sri Lanka' 'Akkarepattu, Ampara, Sri Lanka'\n",
      " 'Nochchiyagama, Anuradhapura, Sri Lanka' 'Pannala, Kurunegala, Sri Lanka'\n",
      " 'Palapathwela, Matale, Sri Lanka' 'Mihintale, Anuradhapura, Sri Lanka'\n",
      " 'Galnewa, Anuradhapura, Sri Lanka' 'Mullativu City, Mullativu, Sri Lanka'\n",
      " 'Medirigiriya, Polonnaruwa, Sri Lanka'\n",
      " 'Vavuniya City, Vavuniya, Sri Lanka' 'Eppawala, Anuradhapura, Sri Lanka'\n",
      " 'Polgahawela, Kurunegala, Sri Lanka' 'Galigamuwa, Kegalle, Sri Lanka'\n",
      " 'Galgamuwa, Kurunegala, Sri Lanka' 'Colombo 1, Colombo, Sri Lanka'\n",
      " 'Wellawaya, Monaragala, Sri Lanka']\n",
      ">>>>>>>>>>>>>>>>>>>>>>>>>>>\n",
      "Lat : [80.5        79.98992915 79.914926   80.01667    79.880242   80.625828\n",
      " 79.92270336 79.95126729 80.         80.62495513 79.843249   79.95461888\n",
      " 80.00917182 79.89621755 79.866418   79.913892   79.888881   79.893438\n",
      " 79.96523447 80.00584169 80.16190477 80.57027436 80.22576146 79.87489147\n",
      " 80.16667    79.90170275 80.1779163  79.90916432 79.894797   80.366868\n",
      " 80.09566275 79.916392   79.79567545 80.06194873 79.89618553 81.33333\n",
      " 79.98429232 79.88473526 79.945297   79.89031426 80.11439832 79.96131082\n",
      " 80.69465124 79.92571983 79.93051018 80.25365836 80.29509296 80.656148\n",
      " 80.062884   80.422128   80.94594    80.73351477 79.94078857 79.883006\n",
      " 79.84130787 80.26152126 80.586124   80.73341679 80.44640936 80.4022975\n",
      " 79.910472   79.88719208 80.06024988 80.17667728 79.923272   80.68273888\n",
      " 80.56061799 80.01935114 80.21416635 79.92739077 80.108277   79.87166754\n",
      " 79.99889854 80.223192   79.98931417 79.87624339 81.701831   80.24614767\n",
      " 80.63318314 81.05639    80.788197   80.75       80.34513535 80.55211429\n",
      " 80.99324942 81.16667    79.982049   80.991192   79.83367    80.59818408\n",
      " 80.66629694 80.70140228 80.793576   80.387154   80.21259466 81.33244224\n",
      " 80.11438172 80.04603074 80.08171057 80.908934   79.88218725 80.85383247\n",
      " 80.981344   80.51952059 79.903304   80.29806    80.3622999  80.02902763\n",
      " 81.02385879 80.6449681  80.54304826 80.49479012 80.60177447 80.12992144\n",
      " 80.19439562 80.385626   81.24703576 80.25       80.038093   80.47750966\n",
      " 80.70143036 80.526905   80.12251309 81.29896    80.68259329 80.26591656\n",
      " 81.216793   81.75       80.602044   80.07875796 80.40849265 80.57109654\n",
      " 80.19653913 81.822554   80.9097235  80.36697859 81.22448626 80.24004632\n",
      " 80.02398105 80.62596389 80.51215785 80.81401289 80.96441114 80.493474\n",
      " 80.30027037 80.31019212 80.27074856 81.10183588]\n",
      ">>>>>>>>>>>>>>>>>>>>>>>>>>>\n",
      "Lon : [6.16667    6.87724644 6.951178   6.86667    6.838232   7.295044\n",
      " 6.80184392 7.0019661  7.13333    7.32208371 7.206416   6.90407234\n",
      " 9.66492557 6.90950418 6.842919   6.897711   6.790527   6.877014\n",
      " 6.84138842 6.84848797 6.29188488 7.16364876 6.06707893 6.81773117\n",
      " 6.58333    6.84105986 6.17248124 6.90316634 7.053406   7.486218\n",
      " 7.14381612 7.031163   7.57650746 6.71662803 6.93722362 6.66667\n",
      " 6.93575721 6.86705446 6.834129   6.93262542 6.52273812 7.06821277\n",
      " 5.96461807 6.93601922 6.66397284 7.04605321 7.02883405 7.866782\n",
      " 6.209759   5.974033   6.759553   6.04809341 6.79568317 6.9889\n",
      " 7.34264073 6.85341313 7.247535   7.29649378 7.43298842 8.33333\n",
      " 6.68036911 6.714417   6.88698236 7.15344924 6.74375641 6.851146\n",
      " 7.28041815 6.34256373 7.22459246 7.4322157  6.97805981 6.135434\n",
      " 7.15677307 6.43264941 6.043279   6.71383328 7.13117577 7.718471\n",
      " 7.61981111 7.42125015 6.98472    6.960166   7.66667    7.25319971\n",
      " 7.26563437 7.34007936 6.25       6.460387   7.93454    8.031354\n",
      " 7.21459787 7.26786533 6.64792562 6.029177   7.268821   6.95223255\n",
      " 6.41355868 7.74869547 6.84410853 6.90883633 8.018604   7.29748921\n",
      " 6.33406478 6.823769   7.25727953 8.975292   6.25361    5.97351632\n",
      " 9.67349082 6.12246277 6.08393136 6.62358453 5.94142378 5.96462207\n",
      " 7.24751441 6.9230497  7.303204   6.76024605 7.75       7.466985\n",
      " 6.10050706 7.31571781 7.050041   7.32994618 6.268887   7.35132467\n",
      " 6.96655976 8.578088   7.08333    6.90314    7.60557256 6.99787253\n",
      " 7.75966141 7.22496091 7.422049   6.90613157 6.77581123 7.15725942\n",
      " 8.27619757 7.32877981 7.53105782 8.35830025 9.26922796 8.14107215\n",
      " 8.752406   7.33525243 7.23532538 7.99618884 6.73178041]\n",
      ">>>>>>>>>>>>>>>>>>>>>>>>>>>\n"
     ]
    }
   ],
   "source": [
    "for i in data.columns:\n",
    "    print(f\"{i} : {data[i].unique()}\")\n",
    "    print(\">>>>>>>>>>>>>>>>>>>>>>>>>>>\")"
   ]
  },
  {
   "cell_type": "code",
   "execution_count": 17,
   "id": "f5c8cfc2-b568-4f4c-bb9c-2562387987dc",
   "metadata": {},
   "outputs": [
    {
     "data": {
      "text/plain": [
       "Index(['Title', 'Sub_title', 'Price', 'Address', 'Baths', 'Land size', 'Beds',\n",
       "       'House size', 'Location', 'Description', 'Post_URL', 'Seller_name',\n",
       "       'Seller_type', 'published_date', 'Geo_Address', 'Lat', 'Lon'],\n",
       "      dtype='object')"
      ]
     },
     "execution_count": 17,
     "metadata": {},
     "output_type": "execute_result"
    }
   ],
   "source": [
    "data.columns"
   ]
  },
  {
   "cell_type": "code",
   "execution_count": 18,
   "id": "84dafe84-cf0e-4783-ad50-f8a41fb469d0",
   "metadata": {},
   "outputs": [],
   "source": [
    "data.drop(columns=['Title','Sub_title','Description','Seller_name','Seller_type','published_date','Lat','Lon','Post_URL','Address','Geo_Address'],axis=1,inplace=True)"
   ]
  },
  {
   "cell_type": "code",
   "execution_count": 19,
   "id": "3da35c0b-05e3-4d8d-b74e-dcfd1db716dc",
   "metadata": {},
   "outputs": [
    {
     "data": {
      "text/html": [
       "<div>\n",
       "<style scoped>\n",
       "    .dataframe tbody tr th:only-of-type {\n",
       "        vertical-align: middle;\n",
       "    }\n",
       "\n",
       "    .dataframe tbody tr th {\n",
       "        vertical-align: top;\n",
       "    }\n",
       "\n",
       "    .dataframe thead th {\n",
       "        text-align: right;\n",
       "    }\n",
       "</style>\n",
       "<table border=\"1\" class=\"dataframe\">\n",
       "  <thead>\n",
       "    <tr style=\"text-align: right;\">\n",
       "      <th></th>\n",
       "      <th>Price</th>\n",
       "      <th>Baths</th>\n",
       "      <th>Land size</th>\n",
       "      <th>Beds</th>\n",
       "      <th>House size</th>\n",
       "      <th>Location</th>\n",
       "    </tr>\n",
       "  </thead>\n",
       "  <tbody>\n",
       "    <tr>\n",
       "      <th>0</th>\n",
       "      <td>Rs 5,400,000</td>\n",
       "      <td>1</td>\n",
       "      <td>50.0 perches</td>\n",
       "      <td>3</td>\n",
       "      <td>1,600.0 sqft</td>\n",
       "      <td>Matara City,  Matara</td>\n",
       "    </tr>\n",
       "    <tr>\n",
       "      <th>1</th>\n",
       "      <td>Rs 16,800,000</td>\n",
       "      <td>3</td>\n",
       "      <td>8.0 perches</td>\n",
       "      <td>3</td>\n",
       "      <td>1,480.0 sqft</td>\n",
       "      <td>Athurugiriya,  Colombo</td>\n",
       "    </tr>\n",
       "    <tr>\n",
       "      <th>2</th>\n",
       "      <td>Rs 20,000,000</td>\n",
       "      <td>2</td>\n",
       "      <td>20.0 perches</td>\n",
       "      <td>3</td>\n",
       "      <td>2,800.0 sqft</td>\n",
       "      <td>Kelaniya,  Gampaha</td>\n",
       "    </tr>\n",
       "    <tr>\n",
       "      <th>3</th>\n",
       "      <td>Rs 187,000,000</td>\n",
       "      <td>5</td>\n",
       "      <td>22.0 perches</td>\n",
       "      <td>5</td>\n",
       "      <td>4,000.0 sqft</td>\n",
       "      <td>Colombo 6,  Colombo</td>\n",
       "    </tr>\n",
       "    <tr>\n",
       "      <th>4</th>\n",
       "      <td>Rs 1,300,000</td>\n",
       "      <td>1</td>\n",
       "      <td>6.3 perches</td>\n",
       "      <td>2</td>\n",
       "      <td>900.0 sqft</td>\n",
       "      <td>Dehiwala,  Colombo</td>\n",
       "    </tr>\n",
       "  </tbody>\n",
       "</table>\n",
       "</div>"
      ],
      "text/plain": [
       "            Price Baths     Land size Beds    House size  \\\n",
       "0    Rs 5,400,000     1  50.0 perches    3  1,600.0 sqft   \n",
       "1   Rs 16,800,000     3   8.0 perches    3  1,480.0 sqft   \n",
       "2   Rs 20,000,000     2  20.0 perches    3  2,800.0 sqft   \n",
       "3  Rs 187,000,000     5  22.0 perches    5  4,000.0 sqft   \n",
       "4    Rs 1,300,000     1   6.3 perches    2    900.0 sqft   \n",
       "\n",
       "                  Location  \n",
       "0     Matara City,  Matara  \n",
       "1   Athurugiriya,  Colombo  \n",
       "2       Kelaniya,  Gampaha  \n",
       "3      Colombo 6,  Colombo  \n",
       "4       Dehiwala,  Colombo  "
      ]
     },
     "execution_count": 19,
     "metadata": {},
     "output_type": "execute_result"
    }
   ],
   "source": [
    "data.head()"
   ]
  },
  {
   "cell_type": "code",
   "execution_count": 20,
   "id": "e8a14858-8415-4926-b42a-60b6b280a9e2",
   "metadata": {},
   "outputs": [
    {
     "name": "stdout",
     "output_type": "stream",
     "text": [
      "<class 'pandas.core.frame.DataFrame'>\n",
      "RangeIndex: 15327 entries, 0 to 15326\n",
      "Data columns (total 6 columns):\n",
      " #   Column      Non-Null Count  Dtype \n",
      "---  ------      --------------  ----- \n",
      " 0   Price       15327 non-null  object\n",
      " 1   Baths       15327 non-null  object\n",
      " 2   Land size   15327 non-null  object\n",
      " 3   Beds        15327 non-null  object\n",
      " 4   House size  15327 non-null  object\n",
      " 5   Location    15327 non-null  object\n",
      "dtypes: object(6)\n",
      "memory usage: 718.6+ KB\n"
     ]
    }
   ],
   "source": [
    "data.info()"
   ]
  },
  {
   "cell_type": "code",
   "execution_count": 21,
   "id": "b40d1536-8632-4f75-bb3d-3d51d5b4823b",
   "metadata": {},
   "outputs": [
    {
     "data": {
      "text/plain": [
       "Price         0\n",
       "Baths         0\n",
       "Land size     0\n",
       "Beds          0\n",
       "House size    0\n",
       "Location      0\n",
       "dtype: int64"
      ]
     },
     "execution_count": 21,
     "metadata": {},
     "output_type": "execute_result"
    }
   ],
   "source": [
    "data.isnull().sum()"
   ]
  },
  {
   "cell_type": "code",
   "execution_count": 22,
   "id": "e81e60ac-d467-4e20-ac13-c387c54f8b35",
   "metadata": {},
   "outputs": [],
   "source": [
    "data[\"Price\"] = data['Price'].apply(lambda x: x.split(\" \")[-1])"
   ]
  },
  {
   "cell_type": "code",
   "execution_count": 23,
   "id": "29fbced6-a0ef-4f67-9ebe-5c0c470eb169",
   "metadata": {},
   "outputs": [],
   "source": [
    "data['Price'] = data['Price'].str.replace(',','',regex=True).astype(int)"
   ]
  },
  {
   "cell_type": "code",
   "execution_count": 24,
   "id": "f6efa135-ee5d-4b16-952f-27384e90a0df",
   "metadata": {},
   "outputs": [
    {
     "data": {
      "text/plain": [
       "array(['1', '3', '2', '5', '4', '10+', '7', '6', '8', '10', '9'],\n",
       "      dtype=object)"
      ]
     },
     "execution_count": 24,
     "metadata": {},
     "output_type": "execute_result"
    }
   ],
   "source": [
    "data['Baths'].unique()"
   ]
  },
  {
   "cell_type": "code",
   "execution_count": 25,
   "id": "b286e4d4-2c07-46c9-b70f-57d260e8947a",
   "metadata": {},
   "outputs": [],
   "source": [
    "data[\"Baths\"] = data['Baths'].apply(lambda x: x.replace('10+','10')).astype(int)"
   ]
  },
  {
   "cell_type": "code",
   "execution_count": 26,
   "id": "c81e8d66-302a-478b-a128-cdaadaf0e157",
   "metadata": {},
   "outputs": [
    {
     "data": {
      "text/plain": [
       "array(['3', '5', '2', '4', '10+', '9', '8', '6', '7', '1', '10'],\n",
       "      dtype=object)"
      ]
     },
     "execution_count": 26,
     "metadata": {},
     "output_type": "execute_result"
    }
   ],
   "source": [
    "data['Beds'].unique()"
   ]
  },
  {
   "cell_type": "code",
   "execution_count": 27,
   "id": "80f00627-cc6c-44a8-a0a8-7dc7a7f8b120",
   "metadata": {},
   "outputs": [],
   "source": [
    "data[\"Beds\"] = data['Beds'].apply(lambda x: x.replace('10+','10')).astype(int)"
   ]
  },
  {
   "cell_type": "code",
   "execution_count": 28,
   "id": "4b12077c-bcc6-4885-93b3-7823f5021316",
   "metadata": {},
   "outputs": [
    {
     "data": {
      "text/plain": [
       "array(['50.0 perches', '8.0 perches', '20.0 perches', '22.0 perches',\n",
       "       '6.3 perches'], dtype=object)"
      ]
     },
     "execution_count": 28,
     "metadata": {},
     "output_type": "execute_result"
    }
   ],
   "source": [
    "data['Land size'].unique()[:5]"
   ]
  },
  {
   "cell_type": "code",
   "execution_count": 29,
   "id": "d515645d-871f-44dd-8f64-50dc1dc9c826",
   "metadata": {},
   "outputs": [],
   "source": [
    "garbage_value = []\n",
    "def check_land_size(x):\n",
    "    try:\n",
    "        return float(x)\n",
    "    except:\n",
    "        garbage_value.append(x)\n",
    "        return garbage_value"
   ]
  },
  {
   "cell_type": "code",
   "execution_count": 30,
   "id": "e274e8b9-ce70-4978-a9f9-1da89e11bb47",
   "metadata": {},
   "outputs": [],
   "source": [
    "data[\"Land size\"] = data['Land size'].apply(lambda x: x.replace('perches',''))"
   ]
  },
  {
   "cell_type": "code",
   "execution_count": 31,
   "id": "4f496574-c6d9-408d-92e6-9544c49f0b02",
   "metadata": {},
   "outputs": [
    {
     "data": {
      "text/plain": [
       "0        50.0\n",
       "1         8.0\n",
       "2        20.0\n",
       "3        22.0\n",
       "4         6.3\n",
       "         ... \n",
       "15322    15.0\n",
       "15323     7.0\n",
       "15324    20.0\n",
       "15325     5.0\n",
       "15326     6.5\n",
       "Name: Land size, Length: 15327, dtype: object"
      ]
     },
     "execution_count": 31,
     "metadata": {},
     "output_type": "execute_result"
    }
   ],
   "source": [
    "data['Land size'].apply(check_land_size)"
   ]
  },
  {
   "cell_type": "code",
   "execution_count": 32,
   "id": "179f80f8-7e16-4b70-90fb-3dff2a624b66",
   "metadata": {},
   "outputs": [
    {
     "data": {
      "text/plain": [
       "36"
      ]
     },
     "execution_count": 32,
     "metadata": {},
     "output_type": "execute_result"
    }
   ],
   "source": [
    "len(garbage_value)"
   ]
  },
  {
   "cell_type": "code",
   "execution_count": 33,
   "id": "743ee32a-7ccf-4654-a328-80d475fec0b0",
   "metadata": {},
   "outputs": [],
   "source": [
    "data[\"Land size\"] = data['Land size'].apply(lambda x: x.replace(',',''))"
   ]
  },
  {
   "cell_type": "code",
   "execution_count": 34,
   "id": "038ddb36-1077-4331-811a-8b647b96068e",
   "metadata": {},
   "outputs": [
    {
     "data": {
      "text/plain": [
       "0        50.0\n",
       "1         8.0\n",
       "2        20.0\n",
       "3        22.0\n",
       "4         6.3\n",
       "         ... \n",
       "15322    15.0\n",
       "15323     7.0\n",
       "15324    20.0\n",
       "15325     5.0\n",
       "15326     6.5\n",
       "Name: Land size, Length: 15327, dtype: object"
      ]
     },
     "execution_count": 34,
     "metadata": {},
     "output_type": "execute_result"
    }
   ],
   "source": [
    "data['Land size'].apply(check_land_size)"
   ]
  },
  {
   "cell_type": "code",
   "execution_count": 35,
   "id": "35dae2f5-66b2-4e33-b3a5-3da685db25c7",
   "metadata": {},
   "outputs": [
    {
     "data": {
      "text/plain": [
       "['3,000.0 ',\n",
       " '1.0 acres',\n",
       " '6.0 acres',\n",
       " '1.25 acres',\n",
       " '1.4 acres',\n",
       " '2,500.0 ',\n",
       " '2,500.0 ',\n",
       " '2.0 acres',\n",
       " '3,500.0 ',\n",
       " '1.5 acres',\n",
       " '3,200.0 ',\n",
       " '1,350.0 ',\n",
       " '1.0 acres',\n",
       " '10.0 acres',\n",
       " '3,000.0 ',\n",
       " '5.5 acres',\n",
       " '3,000.0 ',\n",
       " '2.0 acres',\n",
       " '3,300.0 ',\n",
       " '3,200.0 ',\n",
       " '40.0 acres',\n",
       " '2.5 acres',\n",
       " '3,500.0 ',\n",
       " '5,445.0 ',\n",
       " '1,305.0 ',\n",
       " '1,500.0 ',\n",
       " '1.0 acres',\n",
       " '3,000.0 ',\n",
       " '6.0 acres',\n",
       " '1.0 acres',\n",
       " '2,900.0 ',\n",
       " '3.0 acres',\n",
       " '1,120.0 ',\n",
       " '2.0 acres',\n",
       " '6.0 acres',\n",
       " '3,200.0 ',\n",
       " '1.0 acres',\n",
       " '6.0 acres',\n",
       " '1.25 acres',\n",
       " '1.4 acres',\n",
       " '2.0 acres',\n",
       " '1.5 acres',\n",
       " '1.0 acres',\n",
       " '10.0 acres',\n",
       " '5.5 acres',\n",
       " '2.0 acres',\n",
       " '40.0 acres',\n",
       " '2.5 acres',\n",
       " '1.0 acres',\n",
       " '6.0 acres',\n",
       " '1.0 acres',\n",
       " '3.0 acres',\n",
       " '2.0 acres',\n",
       " '6.0 acres']"
      ]
     },
     "execution_count": 35,
     "metadata": {},
     "output_type": "execute_result"
    }
   ],
   "source": [
    "garbage_value"
   ]
  },
  {
   "cell_type": "code",
   "execution_count": 36,
   "id": "0d5a850f-6dc4-4505-8bc5-edcdc52a54d4",
   "metadata": {},
   "outputs": [],
   "source": [
    "data['Land size'] = data['Land size'].apply(lambda x: x.split(\" \")[0]).astype(float)"
   ]
  },
  {
   "cell_type": "code",
   "execution_count": 37,
   "id": "ac8b946d-b2a3-4e5d-a3e2-0af9653bb690",
   "metadata": {},
   "outputs": [
    {
     "data": {
      "text/plain": [
       "array([5.0000e+01, 8.0000e+00, 2.0000e+01, 2.2000e+01, 6.3000e+00,\n",
       "       1.1000e+01, 1.0000e+01, 9.0000e+00, 3.0000e+03, 9.8500e+00,\n",
       "       1.0500e+01, 1.1400e+01, 8.0000e+01, 7.5000e+00, 3.0000e+00,\n",
       "       1.1200e+01, 2.0500e+01, 1.5000e+01, 7.4200e+00, 2.1500e+01,\n",
       "       1.0200e+01, 1.0300e+01, 1.2500e+01, 1.5000e+02, 6.8000e+00,\n",
       "       7.0000e+00, 3.9130e+01, 1.2000e+01, 2.7500e+01, 9.1100e+00,\n",
       "       1.2100e+01, 1.5500e+01, 1.4000e+01, 1.0400e+01, 1.5000e+00,\n",
       "       1.3000e+01, 2.6000e+01, 1.3980e+01, 6.5000e+00, 6.0000e+00,\n",
       "       6.2500e+00, 1.3500e+01, 1.1500e+01, 2.3000e+01, 8.5000e+00,\n",
       "       1.3800e+01, 9.0000e+01, 7.8600e+00, 1.1600e+01, 2.8000e+02,\n",
       "       3.1000e+01, 1.2050e+01, 1.0600e+01, 1.1200e+02, 7.4000e+00,\n",
       "       1.6500e+01, 4.0000e+01, 1.0100e+01, 1.7000e+01, 1.6200e+01,\n",
       "       9.5000e+00, 2.4800e+01, 1.5400e+01, 9.3000e+00, 7.8000e+00,\n",
       "       9.9000e+00, 9.3300e+00, 1.2600e+02, 1.0050e+01, 2.8000e+01,\n",
       "       4.5000e+01, 1.4800e+01, 7.7000e+00, 1.4900e+02, 2.7000e+01,\n",
       "       6.2000e+01, 1.0120e+01, 1.6000e+01, 3.5000e+00, 8.8000e+00,\n",
       "       1.8000e+01, 2.4000e+01, 5.2500e+00, 1.8900e+01, 6.6400e+00,\n",
       "       1.1700e+01, 1.6750e+01, 5.0200e+01, 1.0000e+00, 1.2600e+01,\n",
       "       1.9000e+01, 2.5000e+01, 3.0000e+01, 3.6000e+01, 7.5000e-01,\n",
       "       1.3200e+01, 4.0000e+00, 5.0000e+00, 1.7500e+01, 1.2850e+01,\n",
       "       5.0170e+01, 5.7000e+01, 8.7000e+00, 9.8000e+00, 1.8400e+01,\n",
       "       1.2340e+01, 1.4700e+01, 6.7000e+00, 1.3670e+01, 7.1500e+00,\n",
       "       1.0700e+01, 8.0800e+00, 2.3740e+01, 1.8500e+01, 3.2000e+01,\n",
       "       7.1000e+00, 8.1900e+00, 4.9000e+00, 1.2900e+01, 4.1000e+01,\n",
       "       5.1000e+01, 5.5000e+01, 1.2800e+01, 2.2500e+01, 7.9000e+00,\n",
       "       1.7500e+00, 1.8700e+01, 4.1000e+00, 1.1690e+01, 2.5600e+01,\n",
       "       6.5000e+01, 3.4000e+01, 1.0870e+01, 2.9000e+01, 7.6000e+00,\n",
       "       6.4000e+00, 1.5210e+01, 1.0900e+01, 2.2620e+01, 1.9500e+01,\n",
       "       7.2000e+00, 1.7200e+01, 2.0000e+00, 9.2500e+00, 4.7000e+01,\n",
       "       6.2400e+00, 1.3430e+01, 6.8700e+00, 1.1000e+02, 4.2000e+01,\n",
       "       3.3000e+01, 6.3500e+00, 6.6200e+00, 6.2000e+00, 6.7500e+00,\n",
       "       1.9700e+01, 1.1300e+01, 4.5900e+01, 1.2350e+01, 2.9500e+01,\n",
       "       1.5300e+01, 3.5500e+01, 1.6800e+01, 1.3900e+01, 1.2630e+01,\n",
       "       5.5000e+00, 9.8300e+00, 1.0150e+01, 2.1000e+01, 8.3000e+00,\n",
       "       2.3400e+01, 3.6000e+00, 8.2000e+00, 7.3000e+00, 6.6000e+00,\n",
       "       1.7900e+00, 1.0800e+01, 1.2500e+00, 1.5310e+01, 1.8600e+01,\n",
       "       3.3600e+01, 7.1400e+00, 2.5000e+00, 1.4500e+01, 1.1750e+01,\n",
       "       1.3400e+01, 5.4000e+01, 1.4250e+01, 4.8000e+01, 1.7700e+01,\n",
       "       8.6000e+01, 5.3500e+00, 8.5500e+01, 1.8760e+01, 7.4300e+00,\n",
       "       7.4500e+00, 4.0200e+01, 1.4000e+00, 1.4200e+01, 1.9100e+01,\n",
       "       7.9800e+00, 2.8000e+00, 1.4190e+01, 8.1200e+00, 1.3650e+01,\n",
       "       1.0750e+01, 7.7600e+00, 8.9000e+00, 1.4700e+02, 1.1060e+01,\n",
       "       8.6000e+00, 6.7000e+01, 5.3000e+01, 8.1000e+00, 1.9800e+01,\n",
       "       3.5000e+01, 3.1500e+00, 1.0340e+01, 4.5000e+00, 2.1350e+01,\n",
       "       3.2500e+00, 1.0410e+01, 9.7000e+00, 9.2000e+00, 4.6000e+00,\n",
       "       7.3100e+00, 9.1500e+00, 1.8980e+01, 2.6450e+01, 9.2000e+01,\n",
       "       1.0250e+01, 1.0040e+01, 1.4200e+02, 2.0190e+01, 8.7600e+00,\n",
       "       1.1900e+01, 6.4200e+00, 1.1100e+01, 7.5300e+00, 3.3700e+01,\n",
       "       2.0800e+01, 9.7500e+00, 9.9000e+01, 1.7300e+01, 6.5300e+00,\n",
       "       9.1200e+00, 2.2300e+01, 2.0160e+01, 1.4000e+02, 1.6700e+01,\n",
       "       8.0500e+00, 9.0700e+00, 1.1340e+01, 4.3000e+01, 2.5000e+03,\n",
       "       5.1000e+00, 1.0530e+01, 1.3030e+01, 2.3600e+01, 5.4000e+00,\n",
       "       1.5700e+01, 6.0000e+01, 1.2700e+01, 6.5800e+00, 3.1680e+01,\n",
       "       4.4000e+00, 2.9200e+01, 1.8300e+01, 8.5000e+01, 1.1800e+01,\n",
       "       8.1500e+00, 1.7680e+01, 1.9600e+01, 2.4500e+01, 6.1400e+00,\n",
       "       1.4900e+01, 1.0650e+01, 3.7000e+00, 3.8000e+01, 6.2300e+00,\n",
       "       8.4000e+00, 1.6000e+02, 2.0120e+01, 1.4300e+01, 9.1000e+00,\n",
       "       7.0000e+02, 1.0000e+02, 1.5800e+01, 7.1900e+00, 1.9750e+01,\n",
       "       3.1400e+00, 8.8000e+02, 4.8500e+01, 6.1000e+00, 5.6000e+01,\n",
       "       2.7600e+02, 9.1700e+00, 2.5500e+01, 5.8350e+01, 1.5560e+01,\n",
       "       1.0770e+01, 1.5190e+01, 1.6600e+01, 8.2500e+00, 5.9200e+00,\n",
       "       6.9000e+00, 2.0200e+01, 1.2650e+01, 1.7800e+01, 1.3700e+01,\n",
       "       4.2500e+00, 7.0500e+00, 2.8500e+01, 6.9000e+01, 6.0100e+00,\n",
       "       1.7400e+01, 2.3500e+01, 1.2300e+01, 8.2800e+01, 1.7900e+01,\n",
       "       2.0960e+01, 1.2900e+02, 2.1100e+02, 4.0500e+01, 3.1110e+01,\n",
       "       1.0700e+02, 3.5000e+03, 5.0300e+00, 9.4500e+00, 6.8000e+01,\n",
       "       4.7000e+00, 5.2400e+00, 1.4400e+01, 3.6500e+01, 3.4680e+01,\n",
       "       9.1000e+01, 1.8750e+01, 1.5610e+01, 2.0900e+01, 1.0500e+02,\n",
       "       2.3550e+01, 2.3000e+00, 9.2200e+00, 1.8200e+02, 1.5250e+01,\n",
       "       2.0310e+01, 1.2450e+01, 6.8500e+00, 7.7700e+00, 1.5200e+01,\n",
       "       7.8000e+01, 5.8000e+00, 9.9800e+00, 3.2000e+03, 8.4200e+00,\n",
       "       1.0080e+01, 1.0560e+01, 1.2580e+01, 1.1610e+01, 6.7400e+01,\n",
       "       3.7500e+00, 1.6300e+01, 3.9700e+00, 1.0680e+01, 1.6400e+01,\n",
       "       1.6170e+01, 5.2000e+01, 6.5500e+00, 1.3520e+01, 1.8200e+01,\n",
       "       2.2500e+00, 1.4870e+01, 6.1200e+00, 1.3300e+01, 8.5500e+00,\n",
       "       3.9000e+01, 1.0330e+01, 3.0100e+01, 7.0600e+00, 2.7400e+01,\n",
       "       1.2200e+01, 9.8200e+00, 1.2100e+00, 2.2900e+00, 1.3500e+03,\n",
       "       1.4150e+01, 2.3330e+01, 1.5750e+01, 8.6500e+00, 1.3160e+01,\n",
       "       2.0660e+01, 5.6000e+00, 3.0500e+01, 9.5500e+00, 4.0800e+00,\n",
       "       4.7500e+00, 1.0310e+01, 6.5400e+00, 1.1730e+01, 5.9000e+01,\n",
       "       5.9600e+01, 1.5100e+01, 9.6000e+01, 6.3200e+00, 3.6300e+01,\n",
       "       1.3600e+01, 2.9700e+01, 8.0200e+00, 1.5850e+01, 5.7300e+00,\n",
       "       8.1800e+00, 6.3000e+01, 5.2000e+00, 1.0610e+01, 1.2400e+01,\n",
       "       3.0700e+01, 1.2400e+02, 9.4100e+00, 1.6250e+01, 9.0600e+00,\n",
       "       1.4600e+01, 5.3200e+01, 4.3500e+01, 6.0900e+00, 1.4750e+01,\n",
       "       1.2250e+01, 7.6000e+01, 1.9400e+01, 1.1250e+01, 8.3000e+01,\n",
       "       1.3560e+01, 8.2000e+01, 9.4000e+00, 9.6000e+00, 2.7000e+00,\n",
       "       1.8000e+00, 8.7500e+00, 3.5200e+01, 2.9400e+00, 6.7200e+00,\n",
       "       5.8000e+01, 4.6000e+01, 2.8500e+02, 2.4000e+00, 1.0260e+01,\n",
       "       1.0220e+01, 3.7000e+01, 1.9250e+01, 1.8260e+01, 1.5780e+01,\n",
       "       1.5400e+02, 7.6700e+00, 1.2660e+01, 2.5800e+01, 5.8500e+00,\n",
       "       1.1300e+02, 4.3000e+00, 2.6600e+00, 7.5000e+01, 2.0300e+01,\n",
       "       1.2000e+02, 3.2000e+02, 3.1900e+01, 1.9900e+01, 4.8000e+00,\n",
       "       9.6500e+00, 3.3000e+00, 1.3100e+01, 3.1400e+01, 2.1100e+01,\n",
       "       3.3000e+03, 1.6100e+01, 6.0600e+00, 3.1600e+01, 3.2000e+00,\n",
       "       8.1400e+00, 1.1850e+01, 9.5000e+01, 7.7500e+00, 5.3000e+00,\n",
       "       2.0350e+01, 7.9600e+00, 7.4700e+00, 2.6500e+01, 2.1000e+00,\n",
       "       1.0790e+01, 1.3990e+01, 1.4100e+01, 8.2600e+00, 1.5600e+01,\n",
       "       9.1400e+00, 7.0300e+00, 3.6920e+01, 2.2600e+01, 7.6800e+00,\n",
       "       1.3890e+01, 1.2150e+01, 2.5250e+01, 1.7620e+01, 9.8700e+00,\n",
       "       2.2000e+00, 1.5200e+02, 9.8100e+00, 7.3300e+00, 2.4700e+01,\n",
       "       1.4850e+01, 2.2700e+01, 6.6000e+01, 2.4250e+01, 1.2750e+01,\n",
       "       2.9970e+01, 1.2840e+01, 6.1000e+01, 1.4950e+01, 2.7850e+01,\n",
       "       3.7750e+01, 1.5500e+02, 1.1820e+01, 1.0110e+01, 3.7500e+01,\n",
       "       1.2740e+01, 1.0800e+02, 8.6600e+00, 1.1885e+02, 2.4000e+02,\n",
       "       1.9370e+01, 3.6100e+01, 1.3250e+01, 1.2490e+01, 2.3110e+01,\n",
       "       2.5900e+01, 8.3100e+00, 2.4540e+01, 7.2500e+00, 2.2520e+01,\n",
       "       5.4450e+03, 2.0150e+01, 3.7600e+01, 9.0500e+00, 1.3050e+01,\n",
       "       5.3800e+00, 5.0500e+01, 1.8250e+01, 7.8500e+00, 9.7700e+00,\n",
       "       1.3050e+03, 6.8900e+00, 1.5000e+03, 5.7500e+00, 1.8100e+01,\n",
       "       2.1300e+01, 2.1830e+01, 4.2000e+00, 1.8650e+01, 1.1280e+01,\n",
       "       1.0300e+02, 2.1500e+00, 4.4000e+01, 2.9100e+01, 1.1740e+01,\n",
       "       1.6930e+01, 1.0630e+01, 1.7750e+01, 8.4000e+01, 1.1350e+01,\n",
       "       1.3600e+00, 0.0000e+00, 1.0350e+01, 2.2900e+01, 7.2100e+00,\n",
       "       1.4500e+02, 3.4500e+01, 1.1370e+01, 4.8000e+02, 7.0800e+00,\n",
       "       1.3750e+01, 1.2640e+01, 6.0800e+00, 1.9810e+01, 2.2200e+01,\n",
       "       2.1620e+01, 3.4000e+00, 1.2370e+01, 1.8130e+01, 1.9000e+00,\n",
       "       3.2800e+01, 2.1800e+01, 1.2380e+01, 1.2680e+01, 1.1650e+01,\n",
       "       1.8820e+01, 5.9500e+01, 5.7700e+01, 3.8400e+01, 1.4670e+01,\n",
       "       7.5500e+00, 4.9000e+01, 2.2270e+01, 1.3830e+01, 1.6890e+01,\n",
       "       6.2100e+00, 1.0440e+01, 1.1490e+01, 1.6500e+02, 1.8800e+01,\n",
       "       2.5700e+01, 2.4910e+01, 6.2200e+00, 2.2080e+01, 9.0900e+00,\n",
       "       1.2710e+01, 1.2440e+01, 1.0320e+01, 2.5720e+01, 2.9000e+03,\n",
       "       1.4400e+02, 1.2000e+00, 5.3200e+00, 1.2330e+01, 1.3770e+01,\n",
       "       3.6600e+00, 3.1100e+01, 4.9500e+01, 1.4600e+00, 1.1200e+03,\n",
       "       1.1100e+00, 2.3170e+01, 2.7500e+00, 3.8700e+00, 2.4300e+01])"
      ]
     },
     "execution_count": 37,
     "metadata": {},
     "output_type": "execute_result"
    }
   ],
   "source": [
    "data['Land size'].unique()"
   ]
  },
  {
   "cell_type": "code",
   "execution_count": 38,
   "id": "cf111962-de2e-4f54-89d6-0086f03d018f",
   "metadata": {},
   "outputs": [
    {
     "data": {
      "text/html": [
       "<div>\n",
       "<style scoped>\n",
       "    .dataframe tbody tr th:only-of-type {\n",
       "        vertical-align: middle;\n",
       "    }\n",
       "\n",
       "    .dataframe tbody tr th {\n",
       "        vertical-align: top;\n",
       "    }\n",
       "\n",
       "    .dataframe thead th {\n",
       "        text-align: right;\n",
       "    }\n",
       "</style>\n",
       "<table border=\"1\" class=\"dataframe\">\n",
       "  <thead>\n",
       "    <tr style=\"text-align: right;\">\n",
       "      <th></th>\n",
       "      <th>Price</th>\n",
       "      <th>Baths</th>\n",
       "      <th>Land size</th>\n",
       "      <th>Beds</th>\n",
       "      <th>House size</th>\n",
       "      <th>Location</th>\n",
       "    </tr>\n",
       "  </thead>\n",
       "  <tbody>\n",
       "    <tr>\n",
       "      <th>0</th>\n",
       "      <td>5400000</td>\n",
       "      <td>1</td>\n",
       "      <td>50.0</td>\n",
       "      <td>3</td>\n",
       "      <td>1,600.0 sqft</td>\n",
       "      <td>Matara City,  Matara</td>\n",
       "    </tr>\n",
       "    <tr>\n",
       "      <th>1</th>\n",
       "      <td>16800000</td>\n",
       "      <td>3</td>\n",
       "      <td>8.0</td>\n",
       "      <td>3</td>\n",
       "      <td>1,480.0 sqft</td>\n",
       "      <td>Athurugiriya,  Colombo</td>\n",
       "    </tr>\n",
       "    <tr>\n",
       "      <th>2</th>\n",
       "      <td>20000000</td>\n",
       "      <td>2</td>\n",
       "      <td>20.0</td>\n",
       "      <td>3</td>\n",
       "      <td>2,800.0 sqft</td>\n",
       "      <td>Kelaniya,  Gampaha</td>\n",
       "    </tr>\n",
       "    <tr>\n",
       "      <th>3</th>\n",
       "      <td>187000000</td>\n",
       "      <td>5</td>\n",
       "      <td>22.0</td>\n",
       "      <td>5</td>\n",
       "      <td>4,000.0 sqft</td>\n",
       "      <td>Colombo 6,  Colombo</td>\n",
       "    </tr>\n",
       "    <tr>\n",
       "      <th>4</th>\n",
       "      <td>1300000</td>\n",
       "      <td>1</td>\n",
       "      <td>6.3</td>\n",
       "      <td>2</td>\n",
       "      <td>900.0 sqft</td>\n",
       "      <td>Dehiwala,  Colombo</td>\n",
       "    </tr>\n",
       "  </tbody>\n",
       "</table>\n",
       "</div>"
      ],
      "text/plain": [
       "       Price  Baths  Land size  Beds    House size                 Location\n",
       "0    5400000      1       50.0     3  1,600.0 sqft     Matara City,  Matara\n",
       "1   16800000      3        8.0     3  1,480.0 sqft   Athurugiriya,  Colombo\n",
       "2   20000000      2       20.0     3  2,800.0 sqft       Kelaniya,  Gampaha\n",
       "3  187000000      5       22.0     5  4,000.0 sqft      Colombo 6,  Colombo\n",
       "4    1300000      1        6.3     2    900.0 sqft       Dehiwala,  Colombo"
      ]
     },
     "execution_count": 38,
     "metadata": {},
     "output_type": "execute_result"
    }
   ],
   "source": [
    "data.head()"
   ]
  },
  {
   "cell_type": "code",
   "execution_count": 39,
   "id": "b4f7079c-9271-4447-b0f4-e5ff6eb586b5",
   "metadata": {},
   "outputs": [
    {
     "name": "stdout",
     "output_type": "stream",
     "text": [
      "<class 'pandas.core.frame.DataFrame'>\n",
      "RangeIndex: 15327 entries, 0 to 15326\n",
      "Data columns (total 6 columns):\n",
      " #   Column      Non-Null Count  Dtype  \n",
      "---  ------      --------------  -----  \n",
      " 0   Price       15327 non-null  int32  \n",
      " 1   Baths       15327 non-null  int32  \n",
      " 2   Land size   15327 non-null  float64\n",
      " 3   Beds        15327 non-null  int32  \n",
      " 4   House size  15327 non-null  object \n",
      " 5   Location    15327 non-null  object \n",
      "dtypes: float64(1), int32(3), object(2)\n",
      "memory usage: 539.0+ KB\n"
     ]
    }
   ],
   "source": [
    "data.info()"
   ]
  },
  {
   "cell_type": "code",
   "execution_count": 40,
   "id": "739fb75b-fbcc-4794-b0bd-00362264b3bd",
   "metadata": {},
   "outputs": [
    {
     "data": {
      "text/plain": [
       "array(['1,600.0 sqft', '1,480.0 sqft', '2,800.0 sqft', ...,\n",
       "       '1,960.0 sqft', '4,653.0 sqft', '2,393.0 sqft'], dtype=object)"
      ]
     },
     "execution_count": 40,
     "metadata": {},
     "output_type": "execute_result"
    }
   ],
   "source": [
    "data['House size'].unique()"
   ]
  },
  {
   "cell_type": "code",
   "execution_count": 41,
   "id": "5895623e-4275-4baa-8c39-fef41d4a6bf2",
   "metadata": {},
   "outputs": [],
   "source": [
    "data['House size'] = data['House size'].apply(lambda x: x.split(\" \")[0])"
   ]
  },
  {
   "cell_type": "code",
   "execution_count": 42,
   "id": "7bee5fc8-cf55-4c57-b4ed-252385419bc2",
   "metadata": {},
   "outputs": [],
   "source": [
    "data[\"House size\"] = data['House size'].apply(lambda x: x.replace(',',''))"
   ]
  },
  {
   "cell_type": "code",
   "execution_count": 43,
   "id": "29401fd3-12fb-40f1-8026-ab278e1f0ee6",
   "metadata": {},
   "outputs": [],
   "source": [
    "data['House size'] = pd.to_numeric(data['House size'])"
   ]
  },
  {
   "cell_type": "code",
   "execution_count": 44,
   "id": "02e4e7d2-f405-41d4-b84b-5ac47a817b76",
   "metadata": {},
   "outputs": [
    {
     "name": "stdout",
     "output_type": "stream",
     "text": [
      "<class 'pandas.core.frame.DataFrame'>\n",
      "RangeIndex: 15327 entries, 0 to 15326\n",
      "Data columns (total 6 columns):\n",
      " #   Column      Non-Null Count  Dtype  \n",
      "---  ------      --------------  -----  \n",
      " 0   Price       15327 non-null  int32  \n",
      " 1   Baths       15327 non-null  int32  \n",
      " 2   Land size   15327 non-null  float64\n",
      " 3   Beds        15327 non-null  int32  \n",
      " 4   House size  15327 non-null  float64\n",
      " 5   Location    15327 non-null  object \n",
      "dtypes: float64(2), int32(3), object(1)\n",
      "memory usage: 539.0+ KB\n"
     ]
    }
   ],
   "source": [
    "data.info()"
   ]
  },
  {
   "cell_type": "code",
   "execution_count": 45,
   "id": "06f5ba45-ac96-40eb-b4f5-639d819ccfe3",
   "metadata": {},
   "outputs": [
    {
     "data": {
      "text/html": [
       "<div>\n",
       "<style scoped>\n",
       "    .dataframe tbody tr th:only-of-type {\n",
       "        vertical-align: middle;\n",
       "    }\n",
       "\n",
       "    .dataframe tbody tr th {\n",
       "        vertical-align: top;\n",
       "    }\n",
       "\n",
       "    .dataframe thead th {\n",
       "        text-align: right;\n",
       "    }\n",
       "</style>\n",
       "<table border=\"1\" class=\"dataframe\">\n",
       "  <thead>\n",
       "    <tr style=\"text-align: right;\">\n",
       "      <th></th>\n",
       "      <th>Price</th>\n",
       "      <th>Baths</th>\n",
       "      <th>Land size</th>\n",
       "      <th>Beds</th>\n",
       "      <th>House size</th>\n",
       "      <th>Location</th>\n",
       "    </tr>\n",
       "  </thead>\n",
       "  <tbody>\n",
       "    <tr>\n",
       "      <th>0</th>\n",
       "      <td>5400000</td>\n",
       "      <td>1</td>\n",
       "      <td>50.0</td>\n",
       "      <td>3</td>\n",
       "      <td>1600.0</td>\n",
       "      <td>Matara City,  Matara</td>\n",
       "    </tr>\n",
       "    <tr>\n",
       "      <th>1</th>\n",
       "      <td>16800000</td>\n",
       "      <td>3</td>\n",
       "      <td>8.0</td>\n",
       "      <td>3</td>\n",
       "      <td>1480.0</td>\n",
       "      <td>Athurugiriya,  Colombo</td>\n",
       "    </tr>\n",
       "    <tr>\n",
       "      <th>2</th>\n",
       "      <td>20000000</td>\n",
       "      <td>2</td>\n",
       "      <td>20.0</td>\n",
       "      <td>3</td>\n",
       "      <td>2800.0</td>\n",
       "      <td>Kelaniya,  Gampaha</td>\n",
       "    </tr>\n",
       "    <tr>\n",
       "      <th>3</th>\n",
       "      <td>187000000</td>\n",
       "      <td>5</td>\n",
       "      <td>22.0</td>\n",
       "      <td>5</td>\n",
       "      <td>4000.0</td>\n",
       "      <td>Colombo 6,  Colombo</td>\n",
       "    </tr>\n",
       "    <tr>\n",
       "      <th>4</th>\n",
       "      <td>1300000</td>\n",
       "      <td>1</td>\n",
       "      <td>6.3</td>\n",
       "      <td>2</td>\n",
       "      <td>900.0</td>\n",
       "      <td>Dehiwala,  Colombo</td>\n",
       "    </tr>\n",
       "  </tbody>\n",
       "</table>\n",
       "</div>"
      ],
      "text/plain": [
       "       Price  Baths  Land size  Beds  House size                 Location\n",
       "0    5400000      1       50.0     3      1600.0     Matara City,  Matara\n",
       "1   16800000      3        8.0     3      1480.0   Athurugiriya,  Colombo\n",
       "2   20000000      2       20.0     3      2800.0       Kelaniya,  Gampaha\n",
       "3  187000000      5       22.0     5      4000.0      Colombo 6,  Colombo\n",
       "4    1300000      1        6.3     2       900.0       Dehiwala,  Colombo"
      ]
     },
     "execution_count": 45,
     "metadata": {},
     "output_type": "execute_result"
    }
   ],
   "source": [
    "data.head()"
   ]
  },
  {
   "cell_type": "code",
   "execution_count": 46,
   "id": "9c8b1b95-a274-4cf5-ae08-c5c533199be5",
   "metadata": {},
   "outputs": [
    {
     "data": {
      "text/plain": [
       "['Price', 'Baths', 'Land size', 'Beds', 'House size']"
      ]
     },
     "execution_count": 46,
     "metadata": {},
     "output_type": "execute_result"
    }
   ],
   "source": [
    "num_columns = [feature for feature in data.columns if data[feature].dtype != 'object']\n",
    "num_columns"
   ]
  },
  {
   "cell_type": "code",
   "execution_count": 47,
   "id": "5c64fab2-6479-41cb-a224-1cc3cc51c99e",
   "metadata": {},
   "outputs": [
    {
     "data": {
      "text/plain": [
       "['Location']"
      ]
     },
     "execution_count": 47,
     "metadata": {},
     "output_type": "execute_result"
    }
   ],
   "source": [
    "cat_columns = [feature for feature in data.columns if data[feature].dtype == 'object']\n",
    "cat_columns"
   ]
  },
  {
   "cell_type": "code",
   "execution_count": 48,
   "id": "144f9e63-4c40-4dc3-9387-509a4d5311e1",
   "metadata": {},
   "outputs": [
    {
     "data": {
      "text/html": [
       "<div>\n",
       "<style scoped>\n",
       "    .dataframe tbody tr th:only-of-type {\n",
       "        vertical-align: middle;\n",
       "    }\n",
       "\n",
       "    .dataframe tbody tr th {\n",
       "        vertical-align: top;\n",
       "    }\n",
       "\n",
       "    .dataframe thead th {\n",
       "        text-align: right;\n",
       "    }\n",
       "</style>\n",
       "<table border=\"1\" class=\"dataframe\">\n",
       "  <thead>\n",
       "    <tr style=\"text-align: right;\">\n",
       "      <th></th>\n",
       "      <th>Price</th>\n",
       "      <th>Baths</th>\n",
       "      <th>Land size</th>\n",
       "      <th>Beds</th>\n",
       "      <th>House size</th>\n",
       "    </tr>\n",
       "  </thead>\n",
       "  <tbody>\n",
       "    <tr>\n",
       "      <th>count</th>\n",
       "      <td>1.532700e+04</td>\n",
       "      <td>15327.000000</td>\n",
       "      <td>15327.000000</td>\n",
       "      <td>15327.000000</td>\n",
       "      <td>15327.000000</td>\n",
       "    </tr>\n",
       "    <tr>\n",
       "      <th>mean</th>\n",
       "      <td>3.534340e+07</td>\n",
       "      <td>2.976251</td>\n",
       "      <td>16.726143</td>\n",
       "      <td>3.987669</td>\n",
       "      <td>2770.713588</td>\n",
       "    </tr>\n",
       "    <tr>\n",
       "      <th>std</th>\n",
       "      <td>4.513401e+07</td>\n",
       "      <td>1.362454</td>\n",
       "      <td>102.990449</td>\n",
       "      <td>1.253643</td>\n",
       "      <td>2194.920377</td>\n",
       "    </tr>\n",
       "    <tr>\n",
       "      <th>min</th>\n",
       "      <td>3.600000e+03</td>\n",
       "      <td>1.000000</td>\n",
       "      <td>0.000000</td>\n",
       "      <td>1.000000</td>\n",
       "      <td>0.000000</td>\n",
       "    </tr>\n",
       "    <tr>\n",
       "      <th>25%</th>\n",
       "      <td>1.650000e+07</td>\n",
       "      <td>2.000000</td>\n",
       "      <td>7.800000</td>\n",
       "      <td>3.000000</td>\n",
       "      <td>1650.000000</td>\n",
       "    </tr>\n",
       "    <tr>\n",
       "      <th>50%</th>\n",
       "      <td>2.600000e+07</td>\n",
       "      <td>3.000000</td>\n",
       "      <td>10.000000</td>\n",
       "      <td>4.000000</td>\n",
       "      <td>2500.000000</td>\n",
       "    </tr>\n",
       "    <tr>\n",
       "      <th>75%</th>\n",
       "      <td>3.950000e+07</td>\n",
       "      <td>4.000000</td>\n",
       "      <td>14.150000</td>\n",
       "      <td>4.000000</td>\n",
       "      <td>3300.000000</td>\n",
       "    </tr>\n",
       "    <tr>\n",
       "      <th>max</th>\n",
       "      <td>1.900000e+09</td>\n",
       "      <td>10.000000</td>\n",
       "      <td>5445.000000</td>\n",
       "      <td>10.000000</td>\n",
       "      <td>120000.000000</td>\n",
       "    </tr>\n",
       "  </tbody>\n",
       "</table>\n",
       "</div>"
      ],
      "text/plain": [
       "              Price         Baths     Land size          Beds     House size\n",
       "count  1.532700e+04  15327.000000  15327.000000  15327.000000   15327.000000\n",
       "mean   3.534340e+07      2.976251     16.726143      3.987669    2770.713588\n",
       "std    4.513401e+07      1.362454    102.990449      1.253643    2194.920377\n",
       "min    3.600000e+03      1.000000      0.000000      1.000000       0.000000\n",
       "25%    1.650000e+07      2.000000      7.800000      3.000000    1650.000000\n",
       "50%    2.600000e+07      3.000000     10.000000      4.000000    2500.000000\n",
       "75%    3.950000e+07      4.000000     14.150000      4.000000    3300.000000\n",
       "max    1.900000e+09     10.000000   5445.000000     10.000000  120000.000000"
      ]
     },
     "execution_count": 48,
     "metadata": {},
     "output_type": "execute_result"
    }
   ],
   "source": [
    "data.describe()"
   ]
  },
  {
   "cell_type": "code",
   "execution_count": 49,
   "id": "28506371-98de-4d12-87e3-3a9dabdeb0a5",
   "metadata": {},
   "outputs": [
    {
     "data": {
      "text/plain": [
       "Price         1.000000\n",
       "Baths         0.455785\n",
       "Land size     0.022024\n",
       "Beds          0.378300\n",
       "House size    0.398847\n",
       "Name: Price, dtype: float64"
      ]
     },
     "execution_count": 49,
     "metadata": {},
     "output_type": "execute_result"
    }
   ],
   "source": [
    "data[num_columns].corr()['Price']"
   ]
  },
  {
   "cell_type": "code",
   "execution_count": 50,
   "id": "9b241daa-af45-41d3-8034-604f6eb70ee0",
   "metadata": {},
   "outputs": [
    {
     "data": {
      "text/plain": [
       "<Axes: ylabel='Baths'>"
      ]
     },
     "execution_count": 50,
     "metadata": {},
     "output_type": "execute_result"
    },
    {
     "data": {
      "image/png": "[encoded data removed]",
      "text/plain": [
       "<Figure size 640x480 with 1 Axes>"
      ]
     },
     "metadata": {},
     "output_type": "display_data"
    }
   ],
   "source": [
    "sns.boxplot(data,y='Baths',fill=True)"
   ]
  },
  {
   "cell_type": "code",
   "execution_count": 51,
   "id": "2b7c0a02-50f6-44ae-85b6-072239cf59c5",
   "metadata": {},
   "outputs": [
    {
     "data": {
      "text/plain": [
       "(15327, 6)"
      ]
     },
     "execution_count": 51,
     "metadata": {},
     "output_type": "execute_result"
    }
   ],
   "source": [
    "data.shape"
   ]
  },
  {
   "cell_type": "code",
   "execution_count": 52,
   "id": "68042960-1670-4cbf-a664-123280a01102",
   "metadata": {},
   "outputs": [
    {
     "name": "stdout",
     "output_type": "stream",
     "text": [
      "-1.0 7.0\n"
     ]
    },
    {
     "data": {
      "text/plain": [
       "(15001, 6)"
      ]
     },
     "execution_count": 52,
     "metadata": {},
     "output_type": "execute_result"
    }
   ],
   "source": [
    "Q1 = np.percentile(data['Baths'],25,method='midpoint')\n",
    "Q3 = np.percentile(data['Baths'],75,method='midpoint')\n",
    "IQR = Q3-Q1\n",
    "lower = Q1-1.5*IQR\n",
    "uppwer = Q3+1.5*IQR\n",
    "print(lower,uppwer)\n",
    "\n",
    "data = data[(data['Baths'] > lower) & (data['Baths'] < uppwer)]\n",
    "data.shape"
   ]
  },
  {
   "cell_type": "code",
   "execution_count": 53,
   "id": "92e9f081-f418-4fed-84da-2e38815a3857",
   "metadata": {},
   "outputs": [
    {
     "name": "stdout",
     "output_type": "stream",
     "text": [
      "-1.7499999999999991 23.45\n"
     ]
    },
    {
     "data": {
      "text/plain": [
       "(13916, 6)"
      ]
     },
     "execution_count": 53,
     "metadata": {},
     "output_type": "execute_result"
    }
   ],
   "source": [
    "Q1 = np.percentile(data['Land size'],25,method='midpoint')\n",
    "Q3 = np.percentile(data['Land size'],75,method='midpoint')\n",
    "IQR = Q3-Q1\n",
    "lower = Q1-1.5*IQR\n",
    "uppwer = Q3+1.5*IQR\n",
    "print(lower,uppwer)\n",
    "\n",
    "data = data[(data['Land size'] > lower) & (data['Land size'] < uppwer)]\n",
    "data.shape"
   ]
  },
  {
   "cell_type": "code",
   "execution_count": 54,
   "id": "5746c51e-ee22-4ca2-b245-08d90be18b72",
   "metadata": {},
   "outputs": [
    {
     "name": "stdout",
     "output_type": "stream",
     "text": [
      "1.5 5.5\n"
     ]
    },
    {
     "data": {
      "text/plain": [
       "(12920, 6)"
      ]
     },
     "execution_count": 54,
     "metadata": {},
     "output_type": "execute_result"
    }
   ],
   "source": [
    "Q1 = np.percentile(data['Beds'],25,method='midpoint')\n",
    "Q3 = np.percentile(data['Beds'],75,method='midpoint')\n",
    "IQR = Q3-Q1\n",
    "lower = Q1-1.5*IQR\n",
    "uppwer = Q3+1.5*IQR\n",
    "print(lower,uppwer)\n",
    "\n",
    "data = data[(data['Beds'] > lower) & (data['Beds'] < uppwer)]\n",
    "data.shape"
   ]
  },
  {
   "cell_type": "code",
   "execution_count": 55,
   "id": "1e4a009f-fae0-4079-acce-8ba023f7ebca",
   "metadata": {},
   "outputs": [
    {
     "name": "stdout",
     "output_type": "stream",
     "text": [
      "-725.0 5475.0\n"
     ]
    },
    {
     "data": {
      "text/plain": [
       "(12748, 6)"
      ]
     },
     "execution_count": 55,
     "metadata": {},
     "output_type": "execute_result"
    }
   ],
   "source": [
    "Q1 = np.percentile(data['House size'],25,method='midpoint')\n",
    "Q3 = np.percentile(data['House size'],75,method='midpoint')\n",
    "IQR = Q3-Q1\n",
    "lower = Q1-1.5*IQR\n",
    "uppwer = Q3+1.5*IQR\n",
    "print(lower,uppwer)\n",
    "\n",
    "data = data[(data['House size'] > lower) & (data['House size'] < uppwer)]\n",
    "data.shape"
   ]
  },
  {
   "cell_type": "code",
   "execution_count": 56,
   "id": "b85c1f67-9c36-488f-b122-632f47f3a1a8",
   "metadata": {},
   "outputs": [
    {
     "name": "stdout",
     "output_type": "stream",
     "text": [
      "-9750000.0 60250000.0\n"
     ]
    },
    {
     "data": {
      "text/plain": [
       "(11978, 6)"
      ]
     },
     "execution_count": 56,
     "metadata": {},
     "output_type": "execute_result"
    }
   ],
   "source": [
    "Q1 = np.percentile(data['Price'],25,method='midpoint')\n",
    "Q3 = np.percentile(data['Price'],75,method='midpoint')\n",
    "IQR = Q3-Q1\n",
    "lower = Q1-1.5*IQR\n",
    "uppwer = Q3+1.5*IQR\n",
    "print(lower,uppwer)\n",
    "\n",
    "data = data[(data['Price'] > lower) & (data['Price'] < uppwer)]\n",
    "data.shape"
   ]
  },
  {
   "cell_type": "code",
   "execution_count": 57,
   "id": "c0e288c8-c3d0-4b9e-a65a-9902f644f150",
   "metadata": {},
   "outputs": [],
   "source": [
    "def distribution(data,col):\n",
    "    sns.kdeplot(data,x=col,fill=True)\n",
    "    plt.show()"
   ]
  },
  {
   "cell_type": "code",
   "execution_count": 58,
   "id": "63f6107a-52ce-4e86-997f-de387ff8b8ef",
   "metadata": {},
   "outputs": [
    {
     "data": {
      "image/png": "[encoded data removed]",
      "text/plain": [
       "<Figure size 640x480 with 1 Axes>"
      ]
     },
     "metadata": {},
     "output_type": "display_data"
    }
   ],
   "source": [
    "distribution(data,'Baths')"
   ]
  },
  {
   "cell_type": "code",
   "execution_count": 59,
   "id": "722b012e-09ad-435f-a057-38e5042bd3ec",
   "metadata": {},
   "outputs": [
    {
     "data": {
      "image/png": "[encoded data removed]",
      "text/plain": [
       "<Figure size 640x480 with 1 Axes>"
      ]
     },
     "metadata": {},
     "output_type": "display_data"
    }
   ],
   "source": [
    "distribution(data,'Beds')"
   ]
  },
  {
   "cell_type": "code",
   "execution_count": 60,
   "id": "7b73d6f1-9128-4b49-a821-cf33236a5003",
   "metadata": {},
   "outputs": [
    {
     "data": {
      "image/png": "[encoded data removed]",
      "text/plain": [
       "<Figure size 640x480 with 1 Axes>"
      ]
     },
     "metadata": {},
     "output_type": "display_data"
    }
   ],
   "source": [
    "distribution(data,'House size')"
   ]
  },
  {
   "cell_type": "code",
   "execution_count": 61,
   "id": "f4741eae-904f-4def-8a86-cc04b3789f4a",
   "metadata": {},
   "outputs": [
    {
     "data": {
      "image/png": "[encoded data removed]",
      "text/plain": [
       "<Figure size 640x480 with 1 Axes>"
      ]
     },
     "metadata": {},
     "output_type": "display_data"
    }
   ],
   "source": [
    "distribution(data,'Land size')"
   ]
  },
  {
   "cell_type": "code",
   "execution_count": 62,
   "id": "6183de26-22f7-49b5-85a5-fac5ed67d450",
   "metadata": {},
   "outputs": [
    {
     "data": {
      "image/png": "[encoded data removed]",
      "text/plain": [
       "<Figure size 640x480 with 1 Axes>"
      ]
     },
     "metadata": {},
     "output_type": "display_data"
    }
   ],
   "source": [
    "distribution(data,'Price')"
   ]
  },
  {
   "cell_type": "code",
   "execution_count": 63,
   "id": "69a4f926-f8fe-40ba-9df0-98ab3347784b",
   "metadata": {},
   "outputs": [
    {
     "name": "stdout",
     "output_type": "stream",
     "text": [
      "Price skwe  : 0.6565508701911723\n",
      "Baths skwe  : -0.007590147702731183\n",
      "Land size skwe  : 1.0213685765359766\n",
      "Beds skwe  : -0.16931771759313696\n",
      "House size skwe  : 0.32613581022479876\n"
     ]
    }
   ],
   "source": [
    "for i in num_columns:\n",
    "    a = data[i].skew()\n",
    "    print(f\"{i} skwe  : {a}\")"
   ]
  },
  {
   "cell_type": "code",
   "execution_count": 64,
   "id": "e3bf4134-4d8c-4ce1-b38e-e45c21f38d83",
   "metadata": {},
   "outputs": [],
   "source": [
    "from sklearn.preprocessing import PowerTransformer,StandardScaler,OneHotEncoder\n",
    "from sklearn.compose import ColumnTransformer\n",
    "from sklearn.model_selection import train_test_split"
   ]
  },
  {
   "cell_type": "code",
   "execution_count": 65,
   "id": "8d60b6de-eb63-4968-95e6-bc6a1e0e4ff3",
   "metadata": {},
   "outputs": [
    {
     "data": {
      "text/plain": [
       "['Baths', 'Land size', 'Beds', 'House size']"
      ]
     },
     "execution_count": 65,
     "metadata": {},
     "output_type": "execute_result"
    }
   ],
   "source": [
    "num_columns = ['Baths', 'Land size', 'Beds', 'House size']\n",
    "#num_columns = ['Baths','Beds', 'House size']\n",
    "num_columns"
   ]
  },
  {
   "cell_type": "code",
   "execution_count": 66,
   "id": "00af0d60-57b0-41b1-b83d-750c8ab33bc1",
   "metadata": {},
   "outputs": [
    {
     "data": {
      "text/plain": [
       "['Location']"
      ]
     },
     "execution_count": 66,
     "metadata": {},
     "output_type": "execute_result"
    }
   ],
   "source": [
    "cat_columns"
   ]
  },
  {
   "cell_type": "code",
   "execution_count": 67,
   "id": "4a655c61-b045-4e14-aab1-d05ffce4f6af",
   "metadata": {},
   "outputs": [
    {
     "data": {
      "text/plain": [
       "['Land size', 'Beds', 'House size']"
      ]
     },
     "execution_count": 67,
     "metadata": {},
     "output_type": "execute_result"
    }
   ],
   "source": [
    "power = ['Land size', 'Beds', 'House size']\n",
    "power"
   ]
  },
  {
   "cell_type": "code",
   "execution_count": 68,
   "id": "c66b56a2-e930-4523-9b3f-7624b45cbb6f",
   "metadata": {},
   "outputs": [],
   "source": [
    "\n",
    "\n",
    "preprocess = ColumnTransformer([\n",
    "    ('power_pileine',PowerTransformer(method='yeo-johnson'),power),\n",
    "    ('num_pipeline',StandardScaler(),num_columns),\n",
    "    ('cat_pipline',OneHotEncoder(handle_unknown='ignore',drop='first'),cat_columns)\n",
    "])"
   ]
  },
  {
   "cell_type": "code",
   "execution_count": 69,
   "id": "7a6a617b-05f9-4397-9a10-d45aed3d6d08",
   "metadata": {},
   "outputs": [],
   "source": [
    "X = data.drop(columns=['Price'],axis=1)\n",
    "y = data['Price']"
   ]
  },
  {
   "cell_type": "code",
   "execution_count": 70,
   "id": "cedc7bcf-0eb0-4c09-be08-15095d9ce206",
   "metadata": {},
   "outputs": [],
   "source": [
    "X = preprocess.fit_transform(X)"
   ]
  },
  {
   "cell_type": "code",
   "execution_count": 71,
   "id": "d0e82262-edf4-43c2-a3a3-3615781d2080",
   "metadata": {},
   "outputs": [],
   "source": [
    "X_train,X_test,y_train,y_test = train_test_split(X,y,test_size=0.2,random_state=42)"
   ]
  },
  {
   "cell_type": "code",
   "execution_count": 72,
   "id": "e1029fa7-0c37-4ddc-ac21-ea1cf7a74a34",
   "metadata": {},
   "outputs": [],
   "source": [
    "#X_train = preprocess.fit_transform(X_train)\n",
    "#X_test = preprocess.transform(X_test)"
   ]
  },
  {
   "cell_type": "code",
   "execution_count": 73,
   "id": "a31c6de8-b8f2-41a8-b0ba-1c6cfca9cabc",
   "metadata": {},
   "outputs": [
    {
     "name": "stdout",
     "output_type": "stream",
     "text": [
      "0.9758859462538806\n"
     ]
    },
    {
     "data": {
      "text/plain": [
       "0.8555044995195269"
      ]
     },
     "execution_count": 73,
     "metadata": {},
     "output_type": "execute_result"
    }
   ],
   "source": [
    "from sklearn.ensemble import RandomForestRegressor\n",
    "from sklearn.metrics import r2_score\n",
    "rf = RandomForestRegressor()\n",
    "rf.fit(X_train,y_train)\n",
    "print(rf.score(X_train,y_train))\n",
    "prd = rf.predict(X_test)\n",
    "r2_score(y_test,prd)"
   ]
  },
  {
   "cell_type": "code",
   "execution_count": 74,
   "id": "db18c20f-9227-46bb-b373-77fd5fa50b46",
   "metadata": {},
   "outputs": [
    {
     "name": "stdout",
     "output_type": "stream",
     "text": [
      "0.9060583710670471\n"
     ]
    },
    {
     "data": {
      "text/plain": [
       "0.8354136943817139"
      ]
     },
     "execution_count": 74,
     "metadata": {},
     "output_type": "execute_result"
    }
   ],
   "source": [
    "from xgboost import XGBRegressor\n",
    "xg = XGBRegressor()\n",
    "xg.fit(X_train,y_train)\n",
    "print(xg.score(X_train,y_train))\n",
    "prd = xg.predict(X_test)\n",
    "r2_score(y_test,prd)"
   ]
  },
  {
   "cell_type": "code",
   "execution_count": 75,
   "id": "c94ad08d-3e2a-455f-b9ba-414db20f268e",
   "metadata": {},
   "outputs": [
    {
     "name": "stdout",
     "output_type": "stream",
     "text": [
      "Stacked Model R² Score: 0.8626553595567859\n"
     ]
    }
   ],
   "source": [
    "from sklearn.ensemble import StackingRegressor\n",
    "from sklearn.linear_model import Ridge\n",
    "\n",
    "stacked_model = StackingRegressor(\n",
    "    estimators=[('xgb', xg), ('rf', rf)], final_estimator=Ridge()\n",
    ")\n",
    "\n",
    "stacked_model.fit(X_train, y_train)\n",
    "y_pred_stacked = stacked_model.predict(X_test)\n",
    "print(\"Stacked Model R² Score:\", r2_score(y_test, y_pred_stacked))\n",
    "\n"
   ]
  },
  {
   "cell_type": "code",
   "execution_count": 76,
   "id": "97f2e2bf-f6a7-4e60-ad06-b067fee67904",
   "metadata": {},
   "outputs": [
    {
     "data": {
      "text/html": [
       "<div>\n",
       "<style scoped>\n",
       "    .dataframe tbody tr th:only-of-type {\n",
       "        vertical-align: middle;\n",
       "    }\n",
       "\n",
       "    .dataframe tbody tr th {\n",
       "        vertical-align: top;\n",
       "    }\n",
       "\n",
       "    .dataframe thead th {\n",
       "        text-align: right;\n",
       "    }\n",
       "</style>\n",
       "<table border=\"1\" class=\"dataframe\">\n",
       "  <thead>\n",
       "    <tr style=\"text-align: right;\">\n",
       "      <th></th>\n",
       "      <th>Price</th>\n",
       "      <th>Baths</th>\n",
       "      <th>Land size</th>\n",
       "      <th>Beds</th>\n",
       "      <th>House size</th>\n",
       "      <th>Location</th>\n",
       "    </tr>\n",
       "  </thead>\n",
       "  <tbody>\n",
       "    <tr>\n",
       "      <th>1</th>\n",
       "      <td>16800000</td>\n",
       "      <td>3</td>\n",
       "      <td>8.0</td>\n",
       "      <td>3</td>\n",
       "      <td>1480.0</td>\n",
       "      <td>Athurugiriya,  Colombo</td>\n",
       "    </tr>\n",
       "    <tr>\n",
       "      <th>2</th>\n",
       "      <td>20000000</td>\n",
       "      <td>2</td>\n",
       "      <td>20.0</td>\n",
       "      <td>3</td>\n",
       "      <td>2800.0</td>\n",
       "      <td>Kelaniya,  Gampaha</td>\n",
       "    </tr>\n",
       "  </tbody>\n",
       "</table>\n",
       "</div>"
      ],
      "text/plain": [
       "      Price  Baths  Land size  Beds  House size                 Location\n",
       "1  16800000      3        8.0     3      1480.0   Athurugiriya,  Colombo\n",
       "2  20000000      2       20.0     3      2800.0       Kelaniya,  Gampaha"
      ]
     },
     "execution_count": 76,
     "metadata": {},
     "output_type": "execute_result"
    }
   ],
   "source": [
    "data.head(2)"
   ]
  },
  {
   "cell_type": "code",
   "execution_count": 77,
   "id": "cf8c60ff-7baf-48ee-aa10-3db2aebd4a35",
   "metadata": {},
   "outputs": [
    {
     "name": "stdout",
     "output_type": "stream",
     "text": [
      "[23352511.55362107]\n"
     ]
    }
   ],
   "source": [
    "import numpy as np\n",
    "columns = [\"Baths\", \"Land size\", \"Beds\", \"House size\", \"Location\"]\n",
    "#columns = [\"Baths\", \"Beds\", \"House size\", \"Location\"]\n",
    "input_data = [2,20,  3, 2800, \"Kelaniya, Gampaha\"]\n",
    "input_data = pd.DataFrame([input_data], columns=columns)\n",
    "\n",
    "input_data = preprocess.transform(input_data) \n",
    "prediction = stacked_model.predict(input_data) \n",
    "\n",
    "print(prediction)\n"
   ]
  },
  {
   "cell_type": "code",
   "execution_count": 78,
   "id": "e53f35d0-743e-451b-b39f-3490500a0f45",
   "metadata": {},
   "outputs": [
    {
     "data": {
      "text/plain": [
       "-0.0006077591543887095"
      ]
     },
     "execution_count": 78,
     "metadata": {},
     "output_type": "execute_result"
    }
   ],
   "source": [
    "from sklearn.svm import SVR\n",
    "svr = SVR()\n",
    "svr.fit(X_train,y_train)\n",
    "svr.score(X_train,y_train)\n",
    "prd = svr.predict(X_test)\n",
    "r2_score(y_test,prd)"
   ]
  },
  {
   "cell_type": "code",
   "execution_count": 79,
   "id": "a51b12a5-2ab8-4334-99ff-6c6f881cb9ca",
   "metadata": {},
   "outputs": [
    {
     "data": {
      "text/plain": [
       "<Axes: xlabel='Location', ylabel='Count'>"
      ]
     },
     "execution_count": 79,
     "metadata": {},
     "output_type": "execute_result"
    },
    {
     "data": {
      "image/png": "[encoded data removed]",
      "text/plain": [
       "<Figure size 640x480 with 1 Axes>"
      ]
     },
     "metadata": {},
     "output_type": "display_data"
    }
   ],
   "source": [
    "sns.histplot(data['Location'],kde=True)"
   ]
  },
  {
   "cell_type": "code",
   "execution_count": null,
   "id": "25954118-18e8-485f-880c-bbad05cc02dc",
   "metadata": {},
   "outputs": [],
   "source": []
  }
 ],
 "metadata": {
  "kernelspec": {
   "display_name": "house_price",
   "language": "python",
   "name": "python3"
  },
  "language_info": {
   "codemirror_mode": {
    "name": "ipython",
    "version": 3
   },
   "file_extension": ".py",
   "mimetype": "text/x-python",
   "name": "python",
   "nbconvert_exporter": "python",
   "pygments_lexer": "ipython3",
   "version": "3.10.16"
  }
 },
 "nbformat": 4,
 "nbformat_minor": 5
}
